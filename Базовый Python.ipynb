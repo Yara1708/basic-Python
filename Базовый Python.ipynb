{
 "cells": [
  {
   "cell_type": "markdown",
   "metadata": {
    "deletable": false,
    "editable": false,
    "id": "E0vqbgi9ay0H"
   },
   "source": [
    "# Яндекс Музыка"
   ]
  },
  {
   "cell_type": "markdown",
   "metadata": {
    "deletable": false,
    "editable": false,
    "id": "VUC88oWjTJw2"
   },
   "source": [
    "Сравнение Москвы и Петербурга окружено мифами. Например:\n",
    " * Москва — мегаполис, подчинённый жёсткому ритму рабочей недели;\n",
    " * Петербург — культурная столица, со своими вкусами.\n",
    "\n",
    "На данных Яндекс Музыки вы сравните поведение пользователей двух столиц.\n",
    "\n",
    "**Цель исследования** — проверьте три гипотезы:\n",
    "1. Активность пользователей зависит от дня недели. Причём в Москве и Петербурге это проявляется по-разному.\n",
    "2. В понедельник утром в Москве преобладают одни жанры, а в Петербурге — другие. Так же и вечером пятницы преобладают разные жанры — в зависимости от города.\n",
    "3. Москва и Петербург предпочитают разные жанры музыки. В Москве чаще слушают поп-музыку, в Петербурге — русский рэп.\n",
    "\n",
    "**Ход исследования**\n",
    "\n",
    "Данные о поведении пользователей вы получите из файла `yandex_music_project.csv`. О качестве данных ничего не известно. Поэтому перед проверкой гипотез понадобится обзор данных.\n",
    "\n",
    "Вы проверите данные на ошибки и оцените их влияние на исследование. Затем, на этапе предобработки вы поищете возможность исправить самые критичные ошибки данных.\n",
    "\n",
    "Таким образом, исследование пройдёт в три этапа:\n",
    " 1. Обзор данных.\n",
    " 2. Предобработка данных.\n",
    " 3. Проверка гипотез.\n",
    "\n"
   ]
  },
  {
   "cell_type": "markdown",
   "metadata": {
    "deletable": false,
    "editable": false,
    "id": "Ml1hmfXC_Zcs"
   },
   "source": [
    "## Обзор данных\n",
    "\n",
    "Составьте первое представление о данных Яндекс Музыки.\n",
    "\n",
    "\n"
   ]
  },
  {
   "cell_type": "markdown",
   "metadata": {
    "deletable": false,
    "editable": false,
    "id": "57eAOGIz_Zcs",
    "tags": [
     "start_task"
    ]
   },
   "source": [
    "**Задание 1**\n",
    "\n",
    "Основной инструмент аналитика — `pandas`. Импортируйте эту библиотеку."
   ]
  },
  {
   "cell_type": "code",
   "execution_count": 1,
   "metadata": {
    "deletable": false,
    "id": "AXN7PHPN_Zcs"
   },
   "outputs": [],
   "source": [
    "import pandas as pd # импорт библиотеки pandas"
   ]
  },
  {
   "cell_type": "markdown",
   "metadata": {
    "deletable": false,
    "editable": false,
    "id": "SG23P8tt_Zcs",
    "tags": [
     "start_task"
    ]
   },
   "source": [
    "**Задание 2**\n",
    "\n",
    "Прочитайте файл `yandex_music_project.csv` из папки `/datasets` и сохраните его в переменной `df`:"
   ]
  },
  {
   "cell_type": "code",
   "execution_count": 2,
   "metadata": {
    "deletable": false,
    "id": "fFVu7vqh_Zct",
    "scrolled": true
   },
   "outputs": [],
   "source": [
    "df = pd.read_csv('/datasets/yandex_music_project.csv') # чтение файла с данными и сохранение в df ||  файл yandex_music_project.csv из папки /datasets"
   ]
  },
  {
   "cell_type": "markdown",
   "metadata": {
    "deletable": false,
    "editable": false,
    "id": "rDoOMd3uTqnZ",
    "tags": [
     "start_task"
    ]
   },
   "source": [
    "**Задание 3**\n",
    "\n",
    "\n",
    "Выведите на экран первые десять строк таблицы:"
   ]
  },
  {
   "cell_type": "code",
   "execution_count": 3,
   "metadata": {
    "deletable": false,
    "id": "oWTVX3gW_Zct"
   },
   "outputs": [
    {
     "data": {
      "text/html": [
       "<div>\n",
       "<style scoped>\n",
       "    .dataframe tbody tr th:only-of-type {\n",
       "        vertical-align: middle;\n",
       "    }\n",
       "\n",
       "    .dataframe tbody tr th {\n",
       "        vertical-align: top;\n",
       "    }\n",
       "\n",
       "    .dataframe thead th {\n",
       "        text-align: right;\n",
       "    }\n",
       "</style>\n",
       "<table border=\"1\" class=\"dataframe\">\n",
       "  <thead>\n",
       "    <tr style=\"text-align: right;\">\n",
       "      <th></th>\n",
       "      <th>userID</th>\n",
       "      <th>Track</th>\n",
       "      <th>artist</th>\n",
       "      <th>genre</th>\n",
       "      <th>City</th>\n",
       "      <th>time</th>\n",
       "      <th>Day</th>\n",
       "    </tr>\n",
       "  </thead>\n",
       "  <tbody>\n",
       "    <tr>\n",
       "      <th>0</th>\n",
       "      <td>FFB692EC</td>\n",
       "      <td>Kamigata To Boots</td>\n",
       "      <td>The Mass Missile</td>\n",
       "      <td>rock</td>\n",
       "      <td>Saint-Petersburg</td>\n",
       "      <td>20:28:33</td>\n",
       "      <td>Wednesday</td>\n",
       "    </tr>\n",
       "    <tr>\n",
       "      <th>1</th>\n",
       "      <td>55204538</td>\n",
       "      <td>Delayed Because of Accident</td>\n",
       "      <td>Andreas Rönnberg</td>\n",
       "      <td>rock</td>\n",
       "      <td>Moscow</td>\n",
       "      <td>14:07:09</td>\n",
       "      <td>Friday</td>\n",
       "    </tr>\n",
       "    <tr>\n",
       "      <th>2</th>\n",
       "      <td>20EC38</td>\n",
       "      <td>Funiculì funiculà</td>\n",
       "      <td>Mario Lanza</td>\n",
       "      <td>pop</td>\n",
       "      <td>Saint-Petersburg</td>\n",
       "      <td>20:58:07</td>\n",
       "      <td>Wednesday</td>\n",
       "    </tr>\n",
       "    <tr>\n",
       "      <th>3</th>\n",
       "      <td>A3DD03C9</td>\n",
       "      <td>Dragons in the Sunset</td>\n",
       "      <td>Fire + Ice</td>\n",
       "      <td>folk</td>\n",
       "      <td>Saint-Petersburg</td>\n",
       "      <td>08:37:09</td>\n",
       "      <td>Monday</td>\n",
       "    </tr>\n",
       "    <tr>\n",
       "      <th>4</th>\n",
       "      <td>E2DC1FAE</td>\n",
       "      <td>Soul People</td>\n",
       "      <td>Space Echo</td>\n",
       "      <td>dance</td>\n",
       "      <td>Moscow</td>\n",
       "      <td>08:34:34</td>\n",
       "      <td>Monday</td>\n",
       "    </tr>\n",
       "    <tr>\n",
       "      <th>5</th>\n",
       "      <td>842029A1</td>\n",
       "      <td>Преданная</td>\n",
       "      <td>IMPERVTOR</td>\n",
       "      <td>rusrap</td>\n",
       "      <td>Saint-Petersburg</td>\n",
       "      <td>13:09:41</td>\n",
       "      <td>Friday</td>\n",
       "    </tr>\n",
       "    <tr>\n",
       "      <th>6</th>\n",
       "      <td>4CB90AA5</td>\n",
       "      <td>True</td>\n",
       "      <td>Roman Messer</td>\n",
       "      <td>dance</td>\n",
       "      <td>Moscow</td>\n",
       "      <td>13:00:07</td>\n",
       "      <td>Wednesday</td>\n",
       "    </tr>\n",
       "    <tr>\n",
       "      <th>7</th>\n",
       "      <td>F03E1C1F</td>\n",
       "      <td>Feeling This Way</td>\n",
       "      <td>Polina Griffith</td>\n",
       "      <td>dance</td>\n",
       "      <td>Moscow</td>\n",
       "      <td>20:47:49</td>\n",
       "      <td>Wednesday</td>\n",
       "    </tr>\n",
       "    <tr>\n",
       "      <th>8</th>\n",
       "      <td>8FA1D3BE</td>\n",
       "      <td>И вновь продолжается бой</td>\n",
       "      <td>NaN</td>\n",
       "      <td>ruspop</td>\n",
       "      <td>Moscow</td>\n",
       "      <td>09:17:40</td>\n",
       "      <td>Friday</td>\n",
       "    </tr>\n",
       "    <tr>\n",
       "      <th>9</th>\n",
       "      <td>E772D5C0</td>\n",
       "      <td>Pessimist</td>\n",
       "      <td>NaN</td>\n",
       "      <td>dance</td>\n",
       "      <td>Saint-Petersburg</td>\n",
       "      <td>21:20:49</td>\n",
       "      <td>Wednesday</td>\n",
       "    </tr>\n",
       "  </tbody>\n",
       "</table>\n",
       "</div>"
      ],
      "text/plain": [
       "     userID                        Track            artist   genre  \\\n",
       "0  FFB692EC            Kamigata To Boots  The Mass Missile    rock   \n",
       "1  55204538  Delayed Because of Accident  Andreas Rönnberg    rock   \n",
       "2    20EC38            Funiculì funiculà       Mario Lanza     pop   \n",
       "3  A3DD03C9        Dragons in the Sunset        Fire + Ice    folk   \n",
       "4  E2DC1FAE                  Soul People        Space Echo   dance   \n",
       "5  842029A1                    Преданная         IMPERVTOR  rusrap   \n",
       "6  4CB90AA5                         True      Roman Messer   dance   \n",
       "7  F03E1C1F             Feeling This Way   Polina Griffith   dance   \n",
       "8  8FA1D3BE     И вновь продолжается бой               NaN  ruspop   \n",
       "9  E772D5C0                    Pessimist               NaN   dance   \n",
       "\n",
       "             City        time        Day  \n",
       "0  Saint-Petersburg  20:28:33  Wednesday  \n",
       "1            Moscow  14:07:09     Friday  \n",
       "2  Saint-Petersburg  20:58:07  Wednesday  \n",
       "3  Saint-Petersburg  08:37:09     Monday  \n",
       "4            Moscow  08:34:34     Monday  \n",
       "5  Saint-Petersburg  13:09:41     Friday  \n",
       "6            Moscow  13:00:07  Wednesday  \n",
       "7            Moscow  20:47:49  Wednesday  \n",
       "8            Moscow  09:17:40     Friday  \n",
       "9  Saint-Petersburg  21:20:49  Wednesday  "
      ]
     },
     "execution_count": 3,
     "metadata": {},
     "output_type": "execute_result"
    }
   ],
   "source": [
    "df.head(10)# получение первых 10 строк таблицы df"
   ]
  },
  {
   "cell_type": "markdown",
   "metadata": {
    "deletable": false,
    "editable": false,
    "id": "EO73Kwic_Zct",
    "tags": [
     "start_task"
    ]
   },
   "source": [
    "**Задание 4**\n",
    "\n",
    "\n",
    "Одной командой получить общую информацию о таблице c помощью метода `info()`:"
   ]
  },
  {
   "cell_type": "code",
   "execution_count": 4,
   "metadata": {
    "deletable": false,
    "id": "DSf2kIb-_Zct"
   },
   "outputs": [
    {
     "name": "stdout",
     "output_type": "stream",
     "text": [
      "<class 'pandas.core.frame.DataFrame'>\n",
      "RangeIndex: 65079 entries, 0 to 65078\n",
      "Data columns (total 7 columns):\n",
      " #   Column    Non-Null Count  Dtype \n",
      "---  ------    --------------  ----- \n",
      " 0     userID  65079 non-null  object\n",
      " 1   Track     63848 non-null  object\n",
      " 2   artist    57876 non-null  object\n",
      " 3   genre     63881 non-null  object\n",
      " 4     City    65079 non-null  object\n",
      " 5   time      65079 non-null  object\n",
      " 6   Day       65079 non-null  object\n",
      "dtypes: object(7)\n",
      "memory usage: 3.5+ MB\n"
     ]
    }
   ],
   "source": [
    "df.info()# получение общей информации о данных в таблице df"
   ]
  },
  {
   "cell_type": "markdown",
   "metadata": {
    "deletable": false,
    "editable": false,
    "id": "TaQ2Iwbr_Zct"
   },
   "source": [
    "Итак, в таблице семь столбцов. Тип данных во всех столбцах — `object`.\n",
    "\n",
    "Согласно документации к данным:\n",
    "* `userID` — идентификатор пользователя;\n",
    "* `Track` — название трека;  \n",
    "* `artist` — имя исполнителя;\n",
    "* `genre` — название жанра;\n",
    "* `City` — город пользователя;\n",
    "* `time` — время начала прослушивания;\n",
    "* `Day` — день недели.\n",
    "\n",
    "Количество значений в столбцах различается. Значит, в данных есть пропущенные значения."
   ]
  },
  {
   "cell_type": "markdown",
   "metadata": {
    "deletable": false,
    "editable": false,
    "id": "4P0UCWzswgEm",
    "tags": [
     "start_task"
    ]
   },
   "source": [
    "**Задание 5**\n",
    "\n",
    "**Вопрос со свободной формой ответа**\n",
    "\n",
    "В названиях колонок видны три нарушения стиля:\n",
    "1. Строчные буквы сочетаются с прописными.\n",
    "2. Встречаются пробелы."
   ]
  },
  {
   "cell_type": "code",
   "execution_count": 5,
   "metadata": {
    "id": "c137-ZstwgEm"
   },
   "outputs": [],
   "source": [
    "# Напишите ваш ответ здесь комментарием. Не удаляйте символ #. Не меняйте тип этой ячейки на Markdown.\n",
    "# В названиях колонок видны три нарушения стиля: 1 Строчные буквы сочетаются с прописными .2 Встречаются пробелы. 3 не змеиный стиль. Нель знака_ в userID \n"
   ]
  },
  {
   "cell_type": "markdown",
   "metadata": {
    "deletable": false,
    "editable": false,
    "id": "MCB6-dXG_Zct"
   },
   "source": [
    "**Выводы**\n",
    "\n",
    "В каждой строке таблицы — данные о прослушанном треке. Часть колонок описывает саму композицию: название, исполнителя и жанр. Остальные данные рассказывают о пользователе: из какого он города, когда он слушал музыку.\n",
    "\n",
    "Предварительно можно утверждать, что данных достаточно для проверки гипотез. Но встречаются пропуски в данных, а в названиях колонок — расхождения с хорошим стилем.\n",
    "\n",
    "Чтобы двигаться дальше, нужно устранить проблемы в данных."
   ]
  },
  {
   "cell_type": "markdown",
   "metadata": {
    "deletable": false,
    "editable": false,
    "id": "SjYF6Ub9_Zct"
   },
   "source": [
    "## Предобработка данных\n",
    "Исправьте стиль в заголовках столбцов, исключите пропуски. Затем проверьте данные на дубликаты."
   ]
  },
  {
   "cell_type": "markdown",
   "metadata": {
    "deletable": false,
    "editable": false,
    "id": "dIaKXr29_Zct",
    "tags": [
     "start_task"
    ]
   },
   "source": [
    "### Стиль заголовков\n",
    "\n",
    "**Задание 6**\n",
    "\n",
    "Выведите на экран названия столбцов:"
   ]
  },
  {
   "cell_type": "code",
   "execution_count": 6,
   "metadata": {
    "deletable": false,
    "id": "oKOTdF_Q_Zct"
   },
   "outputs": [
    {
     "data": {
      "text/plain": [
       "Index(['  userID', 'Track', 'artist', 'genre', '  City  ', 'time', 'Day'], dtype='object')"
      ]
     },
     "execution_count": 6,
     "metadata": {},
     "output_type": "execute_result"
    }
   ],
   "source": [
    "df.columns# перечень названий столбцов таблицы df"
   ]
  },
  {
   "cell_type": "markdown",
   "metadata": {
    "deletable": false,
    "editable": false,
    "id": "zj5534cv_Zct",
    "tags": [
     "start_task"
    ]
   },
   "source": [
    "**Задание 7**\n",
    "\n",
    "\n",
    "Приведите названия в соответствие с хорошим стилем:\n",
    "* несколько слов в названии запишите в «змеином_регистре»,\n",
    "* все символы сделайте строчными,\n",
    "* устраните пробелы.\n",
    "\n",
    "Для этого переименуйте колонки так:\n",
    "* `'  userID'` → `'user_id'`;\n",
    "* `'Track'` → `'track'`;\n",
    "* `'  City  '` → `'city'`;\n",
    "* `'Day'` → `'day'`."
   ]
  },
  {
   "cell_type": "code",
   "execution_count": 7,
   "metadata": {
    "deletable": false,
    "id": "ISlFqs5y_Zct"
   },
   "outputs": [],
   "source": [
    "df = df.rename(columns = {'  userID':'user_id', 'Track':'track', '  City  ':'city', 'Day':'day'})   # переименование столбцов"
   ]
  },
  {
   "cell_type": "markdown",
   "metadata": {
    "deletable": false,
    "editable": false,
    "id": "1dqbh00J_Zct",
    "tags": [
     "start_task"
    ]
   },
   "source": [
    "**Задание 8**\n",
    "\n",
    "\n",
    "Проверьте результат. Для этого ещё раз выведите на экран названия столбцов:"
   ]
  },
  {
   "cell_type": "code",
   "execution_count": 8,
   "metadata": {
    "deletable": false,
    "id": "d4NOAmTW_Zct"
   },
   "outputs": [
    {
     "data": {
      "text/plain": [
       "Index(['user_id', 'track', 'artist', 'genre', 'city', 'time', 'day'], dtype='object')"
      ]
     },
     "execution_count": 8,
     "metadata": {},
     "output_type": "execute_result"
    }
   ],
   "source": [
    "df.columns # проверка результатов - перечень названий столбцов"
   ]
  },
  {
   "cell_type": "markdown",
   "metadata": {
    "deletable": false,
    "editable": false,
    "id": "5ISfbcfY_Zct",
    "tags": [
     "start_task"
    ]
   },
   "source": [
    "### Пропуски значений\n",
    "\n",
    "**Задание 9**\n",
    "\n",
    "Сначала посчитайте, сколько в таблице пропущенных значений. Для этого достаточно двух методов `pandas`:"
   ]
  },
  {
   "cell_type": "code",
   "execution_count": 9,
   "metadata": {
    "deletable": false,
    "id": "RskX29qr_Zct"
   },
   "outputs": [
    {
     "data": {
      "text/plain": [
       "user_id       0\n",
       "track      1231\n",
       "artist     7203\n",
       "genre      1198\n",
       "city          0\n",
       "time          0\n",
       "day           0\n",
       "dtype: int64"
      ]
     },
     "execution_count": 9,
     "metadata": {},
     "output_type": "execute_result"
    }
   ],
   "source": [
    "df.isna().sum()# подсчёт пропусков"
   ]
  },
  {
   "cell_type": "markdown",
   "metadata": {
    "deletable": false,
    "editable": false,
    "id": "qubhgnlO_Zct"
   },
   "source": [
    "Не все пропущенные значения влияют на исследование. Так, в `track` и `artist` пропуски не важны для вашей работы. Достаточно заменить их явными обозначениями.\n",
    "\n",
    "Но пропуски в `genre` могут помешать сравнить музыкальные вкусы в Москве и Санкт-Петербурге. На практике было бы правильно установить причину пропусков и восстановить данные. Такой возможности нет в учебном проекте. Поэтому придётся:\n",
    "* заполнить и эти пропуски явными обозначениями;\n",
    "* оценить, насколько они повредят расчётам."
   ]
  },
  {
   "cell_type": "markdown",
   "metadata": {
    "deletable": false,
    "editable": false,
    "id": "fSv2laPA_Zct",
    "tags": [
     "start_task"
    ]
   },
   "source": [
    "**Задание 10**\n",
    "\n",
    "Замените пропущенные значения в столбцах `track`, `artist` и `genre` на строку `'unknown'`. Для этого создайте список `columns_to_replace`, переберите его элементы циклом `for` и для каждого столбца выполните замену пропущенных значений:"
   ]
  },
  {
   "cell_type": "code",
   "execution_count": 10,
   "metadata": {
    "deletable": false,
    "id": "KplB5qWs_Zct"
   },
   "outputs": [],
   "source": [
    "columns_to_replace = ['track', 'artist', 'genre']\n",
    "\n",
    "for column in columns_to_replace:\n",
    "    df[column] = df[column].fillna('unknown')# перебор названий столбцов в цикле и замена пропущенных значений на 'unknown'\n"
   ]
  },
  {
   "cell_type": "markdown",
   "metadata": {
    "deletable": false,
    "editable": false,
    "id": "Ilsm-MZo_Zct",
    "tags": [
     "start_task"
    ]
   },
   "source": [
    "**Задание 11**\n",
    "\n",
    "Убедитесь, что в таблице не осталось пропусков. Для этого ещё раз посчитайте пропущенные значения."
   ]
  },
  {
   "cell_type": "code",
   "execution_count": 11,
   "metadata": {
    "deletable": false,
    "id": "Tq4nYRX4_Zct"
   },
   "outputs": [
    {
     "data": {
      "text/plain": [
       "user_id    0\n",
       "track      0\n",
       "artist     0\n",
       "genre      0\n",
       "city       0\n",
       "time       0\n",
       "day        0\n",
       "dtype: int64"
      ]
     },
     "execution_count": 11,
     "metadata": {},
     "output_type": "execute_result"
    }
   ],
   "source": [
    "df.isna().sum()# подсчёт пропусков"
   ]
  },
  {
   "cell_type": "markdown",
   "metadata": {
    "deletable": false,
    "editable": false,
    "id": "BWKRtBJ3_Zct",
    "tags": [
     "start_task"
    ]
   },
   "source": [
    "### Дубликаты\n",
    "\n",
    "**Задание 12**\n",
    "\n",
    "Посчитайте явные дубликаты в таблице одной командой:"
   ]
  },
  {
   "cell_type": "code",
   "execution_count": 12,
   "metadata": {
    "deletable": false,
    "id": "36eES_S0_Zct"
   },
   "outputs": [
    {
     "data": {
      "text/plain": [
       "3826"
      ]
     },
     "execution_count": 12,
     "metadata": {},
     "output_type": "execute_result"
    }
   ],
   "source": [
    "df.duplicated().sum()# подсчёт явных дубликатов"
   ]
  },
  {
   "cell_type": "markdown",
   "metadata": {
    "deletable": false,
    "editable": false,
    "id": "Ot25h6XR_Zct",
    "tags": [
     "start_task"
    ]
   },
   "source": [
    "**Задание 13**\n",
    "\n",
    "Вызовите специальный метод `pandas`, чтобы удалить явные дубликаты:"
   ]
  },
  {
   "cell_type": "code",
   "execution_count": 13,
   "metadata": {
    "deletable": false,
    "id": "exFHq6tt_Zct"
   },
   "outputs": [],
   "source": [
    "df = df.drop_duplicates() # удаление явных дубликатов"
   ]
  },
  {
   "cell_type": "markdown",
   "metadata": {
    "deletable": false,
    "editable": false,
    "id": "Im2YwBEG_Zct",
    "tags": [
     "start_task"
    ]
   },
   "source": [
    "**Задание 14**\n",
    "\n",
    "Ещё раз посчитайте явные дубликаты в таблице — убедитесь, что полностью от них избавились:"
   ]
  },
  {
   "cell_type": "code",
   "execution_count": 14,
   "metadata": {
    "deletable": false,
    "id": "-8PuNWQ0_Zct"
   },
   "outputs": [
    {
     "data": {
      "text/plain": [
       "0"
      ]
     },
     "execution_count": 14,
     "metadata": {},
     "output_type": "execute_result"
    }
   ],
   "source": [
    "df.duplicated().sum()# проверка на отсутствие дубликатов"
   ]
  },
  {
   "cell_type": "markdown",
   "metadata": {
    "deletable": false,
    "editable": false,
    "id": "QlFBsxAr_Zct"
   },
   "source": [
    "Теперь избавьтесь от неявных дубликатов в колонке `genre`. Например, название одного и того же жанра может быть записано немного по-разному. Такие ошибки тоже повлияют на результат исследования."
   ]
  },
  {
   "cell_type": "markdown",
   "metadata": {
    "deletable": false,
    "editable": false,
    "id": "eSjWwsOh_Zct",
    "tags": [
     "start_task"
    ]
   },
   "source": [
    "**Задание 15**\n",
    "\n",
    "Выведите на экран список уникальных названий жанров, отсортированный в алфавитном порядке. Для этого:\n",
    "* извлеките нужный столбец датафрейма;\n",
    "* примените к нему метод сортировки;\n",
    "* для отсортированного столбца вызовите метод, который вернёт уникальные значения из столбца."
   ]
  },
  {
   "cell_type": "code",
   "execution_count": 15,
   "metadata": {
    "deletable": false,
    "id": "JIUcqzZN_Zct",
    "scrolled": false
   },
   "outputs": [
    {
     "data": {
      "text/plain": [
       "array(['acid', 'acoustic', 'action', 'adult', 'africa', 'afrikaans',\n",
       "       'alternative', 'alternativepunk', 'ambient', 'americana',\n",
       "       'animated', 'anime', 'arabesk', 'arabic', 'arena',\n",
       "       'argentinetango', 'art', 'audiobook', 'author', 'avantgarde',\n",
       "       'axé', 'baile', 'balkan', 'beats', 'bigroom', 'black', 'bluegrass',\n",
       "       'blues', 'bollywood', 'bossa', 'brazilian', 'breakbeat', 'breaks',\n",
       "       'broadway', 'cantautori', 'cantopop', 'canzone', 'caribbean',\n",
       "       'caucasian', 'celtic', 'chamber', 'chanson', 'children', 'chill',\n",
       "       'chinese', 'choral', 'christian', 'christmas', 'classical',\n",
       "       'classicmetal', 'club', 'colombian', 'comedy', 'conjazz',\n",
       "       'contemporary', 'country', 'cuban', 'dance', 'dancehall',\n",
       "       'dancepop', 'dark', 'death', 'deep', 'deutschrock', 'deutschspr',\n",
       "       'dirty', 'disco', 'dnb', 'documentary', 'downbeat', 'downtempo',\n",
       "       'drum', 'dub', 'dubstep', 'eastern', 'easy', 'electronic',\n",
       "       'electropop', 'emo', 'entehno', 'epicmetal', 'estrada', 'ethnic',\n",
       "       'eurofolk', 'european', 'experimental', 'extrememetal', 'fado',\n",
       "       'fairytail', 'film', 'fitness', 'flamenco', 'folk', 'folklore',\n",
       "       'folkmetal', 'folkrock', 'folktronica', 'forró', 'frankreich',\n",
       "       'französisch', 'french', 'funk', 'future', 'gangsta', 'garage',\n",
       "       'german', 'ghazal', 'gitarre', 'glitch', 'gospel', 'gothic',\n",
       "       'grime', 'grunge', 'gypsy', 'handsup', \"hard'n'heavy\", 'hardcore',\n",
       "       'hardstyle', 'hardtechno', 'hip', 'hip-hop', 'hiphop',\n",
       "       'historisch', 'holiday', 'hop', 'horror', 'house', 'hymn', 'idm',\n",
       "       'independent', 'indian', 'indie', 'indipop', 'industrial',\n",
       "       'inspirational', 'instrumental', 'international', 'irish', 'jam',\n",
       "       'japanese', 'jazz', 'jewish', 'jpop', 'jungle', 'k-pop',\n",
       "       'karadeniz', 'karaoke', 'kayokyoku', 'korean', 'laiko', 'latin',\n",
       "       'latino', 'leftfield', 'local', 'lounge', 'loungeelectronic',\n",
       "       'lovers', 'malaysian', 'mandopop', 'marschmusik', 'meditative',\n",
       "       'mediterranean', 'melodic', 'metal', 'metalcore', 'mexican',\n",
       "       'middle', 'minimal', 'miscellaneous', 'modern', 'mood', 'mpb',\n",
       "       'muslim', 'native', 'neoklassik', 'neue', 'new', 'newage',\n",
       "       'newwave', 'nu', 'nujazz', 'numetal', 'oceania', 'old', 'opera',\n",
       "       'orchestral', 'other', 'piano', 'podcasts', 'pop', 'popdance',\n",
       "       'popelectronic', 'popeurodance', 'poprussian', 'post',\n",
       "       'posthardcore', 'postrock', 'power', 'progmetal', 'progressive',\n",
       "       'psychedelic', 'punjabi', 'punk', 'quebecois', 'ragga', 'ram',\n",
       "       'rancheras', 'rap', 'rave', 'reggae', 'reggaeton', 'regional',\n",
       "       'relax', 'religious', 'retro', 'rhythm', 'rnb', 'rnr', 'rock',\n",
       "       'rockabilly', 'rockalternative', 'rockindie', 'rockother',\n",
       "       'romance', 'roots', 'ruspop', 'rusrap', 'rusrock', 'russian',\n",
       "       'salsa', 'samba', 'scenic', 'schlager', 'self', 'sertanejo',\n",
       "       'shanson', 'shoegazing', 'showtunes', 'singer', 'ska', 'skarock',\n",
       "       'slow', 'smooth', 'soft', 'soul', 'soulful', 'sound', 'soundtrack',\n",
       "       'southern', 'specialty', 'speech', 'spiritual', 'sport',\n",
       "       'stonerrock', 'surf', 'swing', 'synthpop', 'synthrock',\n",
       "       'sängerportrait', 'tango', 'tanzorchester', 'taraftar', 'tatar',\n",
       "       'tech', 'techno', 'teen', 'thrash', 'top', 'traditional',\n",
       "       'tradjazz', 'trance', 'tribal', 'trip', 'triphop', 'tropical',\n",
       "       'türk', 'türkçe', 'ukrrock', 'unknown', 'urban', 'uzbek',\n",
       "       'variété', 'vi', 'videogame', 'vocal', 'western', 'world',\n",
       "       'worldbeat', 'ïîï', 'электроника'], dtype=object)"
      ]
     },
     "execution_count": 15,
     "metadata": {},
     "output_type": "execute_result"
    }
   ],
   "source": [
    "df_genre = df['genre']\n",
    "df_genre.sort_values().unique() # Просмотр уникальных названий жанров"
   ]
  },
  {
   "cell_type": "markdown",
   "metadata": {
    "deletable": false,
    "editable": false,
    "id": "qej-Qmuo_Zct",
    "tags": [
     "start_task"
    ]
   },
   "source": [
    "**Задание 16**\n",
    "\n",
    "Просмотрите список и найдите неявные дубликаты названия `hiphop`. Это могут быть названия с ошибками или альтернативные названия того же жанра.\n",
    "\n",
    "Вы увидите следующие неявные дубликаты:\n",
    "* *hip*,\n",
    "* *hop*,\n",
    "* *hip-hop*.\n",
    "\n",
    "Чтобы очистить от них таблицу, используйте метод `replace()` с двумя аргументами: списком строк-дубликатов (включающий *hip*, *hop* и *hip-hop*) и строкой с правильным значением. Вам нужно исправить колонку `genre` в таблице `df`: заменить каждое значение из списка дубликатов на верное. Вместо `hip`, `hop` и `hip-hop` в таблице должно быть значение `hiphop`:"
   ]
  },
  {
   "cell_type": "code",
   "execution_count": 16,
   "metadata": {
    "deletable": false,
    "id": "ErNDkmns_Zct"
   },
   "outputs": [],
   "source": [
    "df['genre'] = df['genre'].replace('hip', 'hiphop')\n",
    "df['genre'] = df['genre'].replace('hop', 'hiphop')\n",
    "df['genre'] = df['genre'].replace('hip-hop', 'hiphop') # Устранение неявных дубликатов"
   ]
  },
  {
   "cell_type": "markdown",
   "metadata": {
    "deletable": false,
    "editable": false,
    "id": "zQKF16_RG15m",
    "tags": [
     "start_task"
    ]
   },
   "source": [
    "**Задание 17**\n",
    "\n",
    "Проверьте, что заменили неправильные названия:\n",
    "\n",
    "*   *hip*,\n",
    "*   *hop*,\n",
    "*   *hip-hop*.\n",
    "\n",
    "Выведите отсортированный список уникальных значений столбца `genre`:"
   ]
  },
  {
   "cell_type": "code",
   "execution_count": 17,
   "metadata": {
    "deletable": false,
    "id": "wvixALnFG15m"
   },
   "outputs": [
    {
     "data": {
      "text/plain": [
       "array(['acid', 'acoustic', 'action', 'adult', 'africa', 'afrikaans',\n",
       "       'alternative', 'alternativepunk', 'ambient', 'americana',\n",
       "       'animated', 'anime', 'arabesk', 'arabic', 'arena',\n",
       "       'argentinetango', 'art', 'audiobook', 'author', 'avantgarde',\n",
       "       'axé', 'baile', 'balkan', 'beats', 'bigroom', 'black', 'bluegrass',\n",
       "       'blues', 'bollywood', 'bossa', 'brazilian', 'breakbeat', 'breaks',\n",
       "       'broadway', 'cantautori', 'cantopop', 'canzone', 'caribbean',\n",
       "       'caucasian', 'celtic', 'chamber', 'chanson', 'children', 'chill',\n",
       "       'chinese', 'choral', 'christian', 'christmas', 'classical',\n",
       "       'classicmetal', 'club', 'colombian', 'comedy', 'conjazz',\n",
       "       'contemporary', 'country', 'cuban', 'dance', 'dancehall',\n",
       "       'dancepop', 'dark', 'death', 'deep', 'deutschrock', 'deutschspr',\n",
       "       'dirty', 'disco', 'dnb', 'documentary', 'downbeat', 'downtempo',\n",
       "       'drum', 'dub', 'dubstep', 'eastern', 'easy', 'electronic',\n",
       "       'electropop', 'emo', 'entehno', 'epicmetal', 'estrada', 'ethnic',\n",
       "       'eurofolk', 'european', 'experimental', 'extrememetal', 'fado',\n",
       "       'fairytail', 'film', 'fitness', 'flamenco', 'folk', 'folklore',\n",
       "       'folkmetal', 'folkrock', 'folktronica', 'forró', 'frankreich',\n",
       "       'französisch', 'french', 'funk', 'future', 'gangsta', 'garage',\n",
       "       'german', 'ghazal', 'gitarre', 'glitch', 'gospel', 'gothic',\n",
       "       'grime', 'grunge', 'gypsy', 'handsup', \"hard'n'heavy\", 'hardcore',\n",
       "       'hardstyle', 'hardtechno', 'hiphop', 'historisch', 'holiday',\n",
       "       'horror', 'house', 'hymn', 'idm', 'independent', 'indian', 'indie',\n",
       "       'indipop', 'industrial', 'inspirational', 'instrumental',\n",
       "       'international', 'irish', 'jam', 'japanese', 'jazz', 'jewish',\n",
       "       'jpop', 'jungle', 'k-pop', 'karadeniz', 'karaoke', 'kayokyoku',\n",
       "       'korean', 'laiko', 'latin', 'latino', 'leftfield', 'local',\n",
       "       'lounge', 'loungeelectronic', 'lovers', 'malaysian', 'mandopop',\n",
       "       'marschmusik', 'meditative', 'mediterranean', 'melodic', 'metal',\n",
       "       'metalcore', 'mexican', 'middle', 'minimal', 'miscellaneous',\n",
       "       'modern', 'mood', 'mpb', 'muslim', 'native', 'neoklassik', 'neue',\n",
       "       'new', 'newage', 'newwave', 'nu', 'nujazz', 'numetal', 'oceania',\n",
       "       'old', 'opera', 'orchestral', 'other', 'piano', 'podcasts', 'pop',\n",
       "       'popdance', 'popelectronic', 'popeurodance', 'poprussian', 'post',\n",
       "       'posthardcore', 'postrock', 'power', 'progmetal', 'progressive',\n",
       "       'psychedelic', 'punjabi', 'punk', 'quebecois', 'ragga', 'ram',\n",
       "       'rancheras', 'rap', 'rave', 'reggae', 'reggaeton', 'regional',\n",
       "       'relax', 'religious', 'retro', 'rhythm', 'rnb', 'rnr', 'rock',\n",
       "       'rockabilly', 'rockalternative', 'rockindie', 'rockother',\n",
       "       'romance', 'roots', 'ruspop', 'rusrap', 'rusrock', 'russian',\n",
       "       'salsa', 'samba', 'scenic', 'schlager', 'self', 'sertanejo',\n",
       "       'shanson', 'shoegazing', 'showtunes', 'singer', 'ska', 'skarock',\n",
       "       'slow', 'smooth', 'soft', 'soul', 'soulful', 'sound', 'soundtrack',\n",
       "       'southern', 'specialty', 'speech', 'spiritual', 'sport',\n",
       "       'stonerrock', 'surf', 'swing', 'synthpop', 'synthrock',\n",
       "       'sängerportrait', 'tango', 'tanzorchester', 'taraftar', 'tatar',\n",
       "       'tech', 'techno', 'teen', 'thrash', 'top', 'traditional',\n",
       "       'tradjazz', 'trance', 'tribal', 'trip', 'triphop', 'tropical',\n",
       "       'türk', 'türkçe', 'ukrrock', 'unknown', 'urban', 'uzbek',\n",
       "       'variété', 'vi', 'videogame', 'vocal', 'western', 'world',\n",
       "       'worldbeat', 'ïîï', 'электроника'], dtype=object)"
      ]
     },
     "execution_count": 17,
     "metadata": {},
     "output_type": "execute_result"
    }
   ],
   "source": [
    "df_genre.sort_values().unique() # Проверка на неявные дубликаты"
   ]
  },
  {
   "cell_type": "markdown",
   "metadata": {
    "deletable": false,
    "editable": false,
    "id": "jz6a9-7HQUDd"
   },
   "source": [
    "**Выводы**\n",
    "\n",
    "Предобработка обнаружила три проблемы в данных:\n",
    "\n",
    "- нарушения в стиле заголовков,\n",
    "- пропущенные значения,\n",
    "- дубликаты — явные и неявные.\n",
    "\n",
    "Вы исправили заголовки, чтобы упростить работу с таблицей. Без дубликатов исследование станет более точным.\n",
    "\n",
    "Пропущенные значения вы заменили на `'unknown'`. Ещё предстоит увидеть, не повредят ли исследованию пропуски в колонке `genre`.\n",
    "\n",
    "Теперь можно перейти к проверке гипотез."
   ]
  },
  {
   "cell_type": "markdown",
   "metadata": {
    "deletable": false,
    "editable": false,
    "id": "WttZHXH0SqKk"
   },
   "source": [
    "## Проверка гипотез"
   ]
  },
  {
   "cell_type": "markdown",
   "metadata": {
    "deletable": false,
    "editable": false,
    "id": "Im936VVi_Zcu"
   },
   "source": [
    "### Сравнение поведения пользователей двух столиц"
   ]
  },
  {
   "cell_type": "markdown",
   "metadata": {
    "deletable": false,
    "editable": false,
    "id": "nwt_MuaL_Zcu"
   },
   "source": [
    "Первая гипотеза утверждает, что пользователи по-разному слушают музыку в Москве и Санкт-Петербурге. Проверьте это предположение по данным о трёх днях недели — понедельнике, среде и пятнице. Для этого:\n",
    "\n",
    "* Разделите пользователей Москвы и Санкт-Петербурга.\n",
    "* Сравните, сколько треков послушала каждая группа пользователей в понедельник, среду и пятницу.\n"
   ]
  },
  {
   "cell_type": "markdown",
   "metadata": {
    "deletable": false,
    "editable": false,
    "id": "8Dw_YMmT_Zcu",
    "tags": [
     "start_task"
    ]
   },
   "source": [
    "**Задание 18**\n",
    "\n",
    "Для тренировки сначала выполните каждый из расчётов по отдельности.\n",
    "\n",
    "Оцените активность пользователей в каждом городе. Сгруппируйте данные по городу и посчитайте прослушивания в каждой группе.\n",
    "\n"
   ]
  },
  {
   "cell_type": "code",
   "execution_count": 18,
   "metadata": {
    "deletable": false,
    "id": "0_Qs96oh_Zcu"
   },
   "outputs": [
    {
     "data": {
      "text/html": [
       "<div>\n",
       "<style scoped>\n",
       "    .dataframe tbody tr th:only-of-type {\n",
       "        vertical-align: middle;\n",
       "    }\n",
       "\n",
       "    .dataframe tbody tr th {\n",
       "        vertical-align: top;\n",
       "    }\n",
       "\n",
       "    .dataframe thead th {\n",
       "        text-align: right;\n",
       "    }\n",
       "</style>\n",
       "<table border=\"1\" class=\"dataframe\">\n",
       "  <thead>\n",
       "    <tr style=\"text-align: right;\">\n",
       "      <th></th>\n",
       "      <th>user_id</th>\n",
       "      <th>track</th>\n",
       "      <th>artist</th>\n",
       "      <th>genre</th>\n",
       "      <th>time</th>\n",
       "      <th>day</th>\n",
       "    </tr>\n",
       "    <tr>\n",
       "      <th>city</th>\n",
       "      <th></th>\n",
       "      <th></th>\n",
       "      <th></th>\n",
       "      <th></th>\n",
       "      <th></th>\n",
       "      <th></th>\n",
       "    </tr>\n",
       "  </thead>\n",
       "  <tbody>\n",
       "    <tr>\n",
       "      <th>Moscow</th>\n",
       "      <td>42741</td>\n",
       "      <td>42741</td>\n",
       "      <td>42741</td>\n",
       "      <td>42741</td>\n",
       "      <td>42741</td>\n",
       "      <td>42741</td>\n",
       "    </tr>\n",
       "    <tr>\n",
       "      <th>Saint-Petersburg</th>\n",
       "      <td>18512</td>\n",
       "      <td>18512</td>\n",
       "      <td>18512</td>\n",
       "      <td>18512</td>\n",
       "      <td>18512</td>\n",
       "      <td>18512</td>\n",
       "    </tr>\n",
       "  </tbody>\n",
       "</table>\n",
       "</div>"
      ],
      "text/plain": [
       "                  user_id  track  artist  genre   time    day\n",
       "city                                                         \n",
       "Moscow              42741  42741   42741  42741  42741  42741\n",
       "Saint-Petersburg    18512  18512   18512  18512  18512  18512"
      ]
     },
     "execution_count": 18,
     "metadata": {},
     "output_type": "execute_result"
    }
   ],
   "source": [
    "df_count_city = df.groupby('city').count()\n",
    "df_count_city # Подсчёт прослушиваний в каждом городе"
   ]
  },
  {
   "cell_type": "markdown",
   "metadata": {
    "deletable": false,
    "editable": false,
    "id": "dzli3w8o_Zcu",
    "tags": [
     "start_task"
    ]
   },
   "source": [
    "В Москве прослушиваний больше, чем в Петербурге. Из этого не следует, что московские пользователи чаще слушают музыку. Просто самих пользователей в Москве больше.\n",
    "\n",
    "**Задание 19**\n",
    "\n",
    "Теперь сгруппируйте данные по дню недели и посчитайте прослушивания в понедельник, среду и пятницу. Учтите, что в данных есть информация о прослушиваниях только за эти дни.\n"
   ]
  },
  {
   "cell_type": "code",
   "execution_count": 19,
   "metadata": {
    "deletable": false,
    "id": "uZMKjiJz_Zcu"
   },
   "outputs": [
    {
     "data": {
      "text/html": [
       "<div>\n",
       "<style scoped>\n",
       "    .dataframe tbody tr th:only-of-type {\n",
       "        vertical-align: middle;\n",
       "    }\n",
       "\n",
       "    .dataframe tbody tr th {\n",
       "        vertical-align: top;\n",
       "    }\n",
       "\n",
       "    .dataframe thead th {\n",
       "        text-align: right;\n",
       "    }\n",
       "</style>\n",
       "<table border=\"1\" class=\"dataframe\">\n",
       "  <thead>\n",
       "    <tr style=\"text-align: right;\">\n",
       "      <th></th>\n",
       "      <th>user_id</th>\n",
       "      <th>track</th>\n",
       "      <th>artist</th>\n",
       "      <th>genre</th>\n",
       "      <th>city</th>\n",
       "      <th>time</th>\n",
       "    </tr>\n",
       "    <tr>\n",
       "      <th>day</th>\n",
       "      <th></th>\n",
       "      <th></th>\n",
       "      <th></th>\n",
       "      <th></th>\n",
       "      <th></th>\n",
       "      <th></th>\n",
       "    </tr>\n",
       "  </thead>\n",
       "  <tbody>\n",
       "    <tr>\n",
       "      <th>Friday</th>\n",
       "      <td>21840</td>\n",
       "      <td>21840</td>\n",
       "      <td>21840</td>\n",
       "      <td>21840</td>\n",
       "      <td>21840</td>\n",
       "      <td>21840</td>\n",
       "    </tr>\n",
       "    <tr>\n",
       "      <th>Monday</th>\n",
       "      <td>21354</td>\n",
       "      <td>21354</td>\n",
       "      <td>21354</td>\n",
       "      <td>21354</td>\n",
       "      <td>21354</td>\n",
       "      <td>21354</td>\n",
       "    </tr>\n",
       "    <tr>\n",
       "      <th>Wednesday</th>\n",
       "      <td>18059</td>\n",
       "      <td>18059</td>\n",
       "      <td>18059</td>\n",
       "      <td>18059</td>\n",
       "      <td>18059</td>\n",
       "      <td>18059</td>\n",
       "    </tr>\n",
       "  </tbody>\n",
       "</table>\n",
       "</div>"
      ],
      "text/plain": [
       "           user_id  track  artist  genre   city   time\n",
       "day                                                   \n",
       "Friday       21840  21840   21840  21840  21840  21840\n",
       "Monday       21354  21354   21354  21354  21354  21354\n",
       "Wednesday    18059  18059   18059  18059  18059  18059"
      ]
     },
     "execution_count": 19,
     "metadata": {},
     "output_type": "execute_result"
    }
   ],
   "source": [
    "df_count_day = df.groupby('day').count()\n",
    "df_count_day# Подсчёт прослушиваний в каждый из трёх дней"
   ]
  },
  {
   "cell_type": "markdown",
   "metadata": {
    "deletable": false,
    "editable": false,
    "id": "cC2tNrlL_Zcu"
   },
   "source": [
    "В среднем пользователи из двух городов менее активны по средам. Но картина может измениться, если рассмотреть каждый город в отдельности."
   ]
  },
  {
   "cell_type": "markdown",
   "metadata": {
    "deletable": false,
    "editable": false,
    "id": "POzs8bGa_Zcu",
    "tags": [
     "start_task"
    ]
   },
   "source": [
    "**Задание 20**\n",
    "\n",
    "\n",
    "Вы видели, как работает группировка по городу и по дням недели. Теперь напишите функцию, которая объединит два эти расчёта.\n",
    "\n",
    "Создайте функцию `number_tracks()`, которая посчитает прослушивания для заданного дня и города. Ей понадобятся два параметра:\n",
    "* день недели,\n",
    "* название города.\n",
    "\n",
    "В функции сохраните в переменную строки исходной таблицы, у которых значение:\n",
    "  * в колонке `day` равно параметру `day`,\n",
    "  * в колонке `city` равно параметру `city`.\n",
    "\n",
    "Для этого примените последовательную фильтрацию с логической индексацией (или сложные логические выражения в одну строку, если вы уже знакомы с ними).\n",
    "\n",
    "Затем посчитайте значения в столбце `user_id` получившейся таблицы. Результат сохраните в новую переменную. Верните эту переменную из функции."
   ]
  },
  {
   "cell_type": "code",
   "execution_count": 20,
   "metadata": {
    "deletable": false,
    "id": "Nz3GdQB1_Zcu"
   },
   "outputs": [],
   "source": [
    "# <создание функции number_tracks()>\n",
    "def number_tracks(day, city):# Объявляется функция с двумя параметрами: day, city.\n",
    "    track_list = df[df['day'] == day]\n",
    "    track_list = track_list[track_list['city'] == city]\n",
    "    track_list_count = track_list['user_id'].count()\n",
    "    return track_list_count\n",
    "\n",
    "# В переменной track_list сохраняются те строки таблицы df, для которых\n",
    "# значение в столбце 'day' равно параметру day и одновременно значение\n",
    "# в столбце 'city' равно параметру city (используйте последовательную фильтрацию\n",
    "# с помощью логической индексации или сложные логические выражения в одну строку, если вы уже знакомы с ними).\n",
    "# В переменной track_list_count сохраняется число значений столбца 'user_id',\n",
    "# рассчитанное методом count() для таблицы track_list.\n",
    "# Функция возвращает число - значение track_list_count.\n",
    "\n",
    "# Функция для подсчёта прослушиваний для конкретного города и дня.\n",
    "# С помощью последовательной фильтрации с логической индексацией она\n",
    "# сначала получит из исходной таблицы строки с нужным днём,\n",
    "# затем из результата отфильтрует строки с нужным городом,\n",
    "# методом count() посчитает количество значений в колонке user_id.\n",
    "# Это количество функция вернёт в качестве результата"
   ]
  },
  {
   "cell_type": "markdown",
   "metadata": {
    "deletable": false,
    "editable": false,
    "id": "ytf7xFrFJQ2r",
    "tags": [
     "start_task"
    ]
   },
   "source": [
    "**Задание 21**\n",
    "\n",
    "Вызовите `number_tracks()` шесть раз, меняя значение параметров — так, чтобы получить данные для каждого города в каждый из трёх дней."
   ]
  },
  {
   "cell_type": "code",
   "execution_count": 21,
   "metadata": {
    "deletable": false,
    "id": "rJcRATNQ_Zcu"
   },
   "outputs": [
    {
     "name": "stdout",
     "output_type": "stream",
     "text": [
      "15740\n"
     ]
    }
   ],
   "source": [
    "print(number_tracks('Monday', 'Moscow'))# количество прослушиваний в Москве по понедельникам"
   ]
  },
  {
   "cell_type": "code",
   "execution_count": 22,
   "metadata": {
    "deletable": false,
    "id": "hq_ncZ5T_Zcu"
   },
   "outputs": [
    {
     "name": "stdout",
     "output_type": "stream",
     "text": [
      "5614\n"
     ]
    }
   ],
   "source": [
    "print(number_tracks('Monday', 'Saint-Petersburg'))# количество прослушиваний в Санкт-Петербурге по понедельникам"
   ]
  },
  {
   "cell_type": "code",
   "execution_count": 23,
   "metadata": {
    "deletable": false,
    "id": "_NTy2VPU_Zcu"
   },
   "outputs": [
    {
     "name": "stdout",
     "output_type": "stream",
     "text": [
      "11056\n"
     ]
    }
   ],
   "source": [
    "print(number_tracks('Wednesday', 'Moscow'))# количество прослушиваний в Москве по средам"
   ]
  },
  {
   "cell_type": "code",
   "execution_count": 24,
   "metadata": {
    "deletable": false,
    "id": "j2y3TAwo_Zcu",
    "scrolled": true
   },
   "outputs": [
    {
     "name": "stdout",
     "output_type": "stream",
     "text": [
      "7003\n"
     ]
    }
   ],
   "source": [
    "print(number_tracks('Wednesday', 'Saint-Petersburg'))# количество прослушиваний в Санкт-Петербурге по средам"
   ]
  },
  {
   "cell_type": "code",
   "execution_count": 25,
   "metadata": {
    "deletable": false,
    "id": "vYDw5u_K_Zcu"
   },
   "outputs": [
    {
     "name": "stdout",
     "output_type": "stream",
     "text": [
      "15945\n"
     ]
    }
   ],
   "source": [
    "print(number_tracks('Friday', 'Moscow'))# количество прослушиваний в Москве по пятницам"
   ]
  },
  {
   "cell_type": "code",
   "execution_count": 26,
   "metadata": {
    "deletable": false,
    "id": "8_yzFtW3_Zcu"
   },
   "outputs": [
    {
     "name": "stdout",
     "output_type": "stream",
     "text": [
      "5895\n"
     ]
    }
   ],
   "source": [
    "print(number_tracks('Friday', 'Saint-Petersburg'))\n",
    "# количество прослушиваний в Санкт-Петербурге по пятницам"
   ]
  },
  {
   "cell_type": "markdown",
   "metadata": {
    "deletable": false,
    "editable": false,
    "id": "7QXffbO-_Zcu",
    "tags": [
     "start_task"
    ]
   },
   "source": [
    "**Задание 22**\n",
    "\n",
    "С помощью конструктора `pd.DataFrame` создайте таблицу, где\n",
    "* названия колонок — `['city', 'monday', 'wednesday', 'friday']`;\n",
    "* данные — результаты, которые вы получили с помощью `number_tracks`."
   ]
  },
  {
   "cell_type": "code",
   "execution_count": 27,
   "metadata": {
    "deletable": false,
    "id": "APAcLpOr_Zcu"
   },
   "outputs": [
    {
     "data": {
      "text/html": [
       "<div>\n",
       "<style scoped>\n",
       "    .dataframe tbody tr th:only-of-type {\n",
       "        vertical-align: middle;\n",
       "    }\n",
       "\n",
       "    .dataframe tbody tr th {\n",
       "        vertical-align: top;\n",
       "    }\n",
       "\n",
       "    .dataframe thead th {\n",
       "        text-align: right;\n",
       "    }\n",
       "</style>\n",
       "<table border=\"1\" class=\"dataframe\">\n",
       "  <thead>\n",
       "    <tr style=\"text-align: right;\">\n",
       "      <th></th>\n",
       "      <th>city</th>\n",
       "      <th>monday</th>\n",
       "      <th>wednesday</th>\n",
       "      <th>friday</th>\n",
       "    </tr>\n",
       "  </thead>\n",
       "  <tbody>\n",
       "    <tr>\n",
       "      <th>0</th>\n",
       "      <td>Moscow</td>\n",
       "      <td>15740</td>\n",
       "      <td>11056</td>\n",
       "      <td>15945</td>\n",
       "    </tr>\n",
       "    <tr>\n",
       "      <th>1</th>\n",
       "      <td>Saint-Petersburg</td>\n",
       "      <td>5614</td>\n",
       "      <td>7003</td>\n",
       "      <td>5895</td>\n",
       "    </tr>\n",
       "  </tbody>\n",
       "</table>\n",
       "</div>"
      ],
      "text/plain": [
       "               city  monday  wednesday  friday\n",
       "0            Moscow   15740      11056   15945\n",
       "1  Saint-Petersburg    5614       7003    5895"
      ]
     },
     "execution_count": 27,
     "metadata": {},
     "output_type": "execute_result"
    }
   ],
   "source": [
    "data = [['Moscow', 15740, 11056, 15945],['Saint-Petersburg', 5614, 7003, 5895]]\n",
    "columns = ['city', 'monday', 'wednesday', 'friday']\n",
    "info = pd.DataFrame(data = data, columns = columns)\n",
    "info # Таблица с результатами"
   ]
  },
  {
   "cell_type": "markdown",
   "metadata": {
    "deletable": false,
    "editable": false,
    "id": "-EgPIHYu_Zcu"
   },
   "source": [
    "**Выводы**\n",
    "\n",
    "Данные показывают разницу поведения пользователей:\n",
    "\n",
    "- В Москве пик прослушиваний приходится на понедельник и пятницу, а в среду заметен спад.\n",
    "- В Петербурге, наоборот, больше слушают музыку по средам. Активность в понедельник и пятницу здесь почти в равной мере уступает среде.\n",
    "\n",
    "Значит, данные говорят в пользу первой гипотезы."
   ]
  },
  {
   "cell_type": "markdown",
   "metadata": {
    "deletable": false,
    "editable": false,
    "id": "atZAxtq4_Zcu"
   },
   "source": [
    "### Музыка в начале и в конце недели"
   ]
  },
  {
   "cell_type": "markdown",
   "metadata": {
    "deletable": false,
    "editable": false,
    "id": "eXrQqXFH_Zcu"
   },
   "source": [
    "Согласно второй гипотезе, утром в понедельник в Москве преобладают одни жанры, а в Петербурге — другие. Так же и вечером пятницы преобладают разные жанры — в зависимости от города."
   ]
  },
  {
   "cell_type": "markdown",
   "metadata": {
    "deletable": false,
    "editable": false,
    "id": "S8UcW6Hw_Zcu",
    "tags": [
     "start_task"
    ]
   },
   "source": [
    "**Задание 23**\n",
    "\n",
    "Сохраните таблицы с данными в две переменные:\n",
    "* по Москве — в `moscow_general`;\n",
    "* по Санкт-Петербургу — в `spb_general`."
   ]
  },
  {
   "cell_type": "code",
   "execution_count": 28,
   "metadata": {
    "deletable": false,
    "id": "qeaFfM_P_Zcu"
   },
   "outputs": [],
   "source": [
    "moscow_general = df[df['city'] == 'Moscow'] \n",
    "# получение таблицы moscow_general из тех строк таблицы df,\n",
    "# для которых значение в столбце 'city' равно 'Moscow'\n"
   ]
  },
  {
   "cell_type": "code",
   "execution_count": 29,
   "metadata": {
    "deletable": false,
    "id": "ORaVRKto_Zcu"
   },
   "outputs": [],
   "source": [
    "spb_general = df[df['city'] == 'Saint-Petersburg'] # получение таблицы spb_general из тех строк таблицы df,\n",
    "# для которых значение в столбце 'city' равно 'Saint-Petersburg'\n"
   ]
  },
  {
   "cell_type": "markdown",
   "metadata": {
    "deletable": false,
    "id": "MEJV-CX2_Zcu",
    "tags": [
     "start_task"
    ]
   },
   "source": [
    "**Задание 24**\n",
    "\n",
    "Создайте функцию `genre_weekday()` с четырьмя параметрами:\n",
    "* таблица (датафрейм) с данными,\n",
    "* день недели,\n",
    "* начальная временная метка в формате 'hh:mm',\n",
    "* последняя временная метка в формате 'hh:mm'.\n",
    "\n",
    "Функция должна вернуть информацию о топ-10 жанров тех треков, которые прослушивали в указанный день, в промежутке между двумя отметками времени."
   ]
  },
  {
   "cell_type": "code",
   "execution_count": 30,
   "metadata": {
    "deletable": false,
    "id": "laJT9BYl_Zcu"
   },
   "outputs": [],
   "source": [
    "# Объявление функции genre_weekday() с параметрами df, day, time1, time2,\n",
    "# которая возвращает информацию о самых популярных жанрах в указанный день в\n",
    "# заданное время:\n",
    "# 1) в переменную genre_df сохраняются те строки переданного датафрейма df, для\n",
    "#    которых одновременно:\n",
    "#    - значение в столбце day равно значению аргумента day\n",
    "#    - значение в столбце time больше значения аргумента time1\n",
    "#    - значение в столбце time меньше значения аргумента time2\n",
    "#    Используйте последовательную фильтрацию с помощью логической индексации.\n",
    "# 2) сгруппировать датафрейм genre_df по столбцу genre, взять один из его\n",
    "#    столбцов и посчитать методом count() количество записей для каждого из\n",
    "#    присутствующих жанров, получившийся Series записать в переменную\n",
    "#    genre_df_grouped\n",
    "# 3) отсортировать genre_df_grouped по убыванию встречаемости и сохранить\n",
    "#    в переменную genre_df_sorted\n",
    "# 4) вернуть Series из 10 первых значений genre_df_sorted, это будут топ-10\n",
    "#    популярных жанров (в указанный день, в заданное время)\n",
    "\n",
    "def genre_weekday(df, day, time1, time2):\n",
    "    # последовательная фильтрация\n",
    "    # оставляем в genre_df только те строки df, у которых день равен day\n",
    "    genre_df = df[df['day'] == day] # ваш код здесь\n",
    "    # оставляем в genre_df только те строки genre_df, у которых время меньше time2\n",
    "    genre_df = genre_df[genre_df['time'] < time2] # ваш код здесь\n",
    "    # оставляем в genre_df только те строки genre_df, у которых время больше time1\n",
    "    genre_df = genre_df[genre_df['time'] > time1] # ваш код здесь\n",
    "    # сгруппируем отфильтрованный датафрейм по столбцу с названиями жанров, возьмём столбец genre и посчитаем кол-во строк для каждого жанра методом count()\n",
    "    genre_df_grouped = genre_df.groupby('genre')['genre'].count() # ваш код здесь\n",
    "    # отсортируем результат по убыванию (чтобы в начале Series оказались самые популярные жанры)\n",
    "    genre_df_sorted = genre_df_grouped.sort_values(ascending=False) # ваш код здесь\n",
    "    # вернём Series с 10 самыми популярными жанрами в указанный отрезок времени заданного дня\n",
    "    return genre_df_sorted[:10]"
   ]
  },
  {
   "cell_type": "markdown",
   "metadata": {
    "deletable": false,
    "editable": false,
    "id": "la2s2_PF_Zcu",
    "tags": [
     "start_task"
    ]
   },
   "source": [
    "**Задание 25**\n",
    "\n",
    "\n",
    "Cравните результаты функции `genre_weekday()` для Москвы и Санкт-Петербурга в понедельник утром (с 7:00 до 11:00) и в пятницу вечером (с 17:00 до 23:00):"
   ]
  },
  {
   "cell_type": "code",
   "execution_count": 31,
   "metadata": {
    "deletable": false,
    "id": "yz7itPUQ_Zcu"
   },
   "outputs": [
    {
     "data": {
      "text/plain": [
       "genre\n",
       "pop            781\n",
       "dance          549\n",
       "electronic     480\n",
       "rock           474\n",
       "hiphop         286\n",
       "ruspop         186\n",
       "world          181\n",
       "rusrap         175\n",
       "alternative    164\n",
       "unknown        161\n",
       "Name: genre, dtype: int64"
      ]
     },
     "execution_count": 31,
     "metadata": {},
     "output_type": "execute_result"
    }
   ],
   "source": [
    "genre_weekday(moscow_general, 'Monday', '07:00', '11:00')# вызов функции для утра понедельника в Москве (вместо df — таблица moscow_general)\n",
    "# объекты, хранящие время, являются строками и сравниваются как строки\n",
    "# пример вызова: genre_weekday(moscow_general, 'Monday', '07:00', '11:00')"
   ]
  },
  {
   "cell_type": "code",
   "execution_count": 32,
   "metadata": {
    "deletable": false,
    "id": "kwUcHPdy_Zcu"
   },
   "outputs": [
    {
     "data": {
      "text/plain": [
       "genre\n",
       "pop            218\n",
       "dance          182\n",
       "rock           162\n",
       "electronic     147\n",
       "hiphop          80\n",
       "ruspop          64\n",
       "alternative     58\n",
       "rusrap          55\n",
       "jazz            44\n",
       "classical       40\n",
       "Name: genre, dtype: int64"
      ]
     },
     "execution_count": 32,
     "metadata": {},
     "output_type": "execute_result"
    }
   ],
   "source": [
    "genre_weekday(spb_general, 'Monday', '07:00', '11:00')# вызов функции для утра понедельника в Петербурге (вместо df — таблица spb_general)"
   ]
  },
  {
   "cell_type": "code",
   "execution_count": 33,
   "metadata": {
    "deletable": false,
    "id": "EzXVRE1o_Zcu"
   },
   "outputs": [
    {
     "data": {
      "text/plain": [
       "genre\n",
       "pop            713\n",
       "rock           517\n",
       "dance          495\n",
       "electronic     482\n",
       "hiphop         273\n",
       "world          208\n",
       "ruspop         170\n",
       "alternative    163\n",
       "classical      163\n",
       "rusrap         142\n",
       "Name: genre, dtype: int64"
      ]
     },
     "execution_count": 33,
     "metadata": {},
     "output_type": "execute_result"
    }
   ],
   "source": [
    "genre_weekday(moscow_general, 'Friday', '17:00', '23:00')# вызов функции для вечера пятницы в Москве"
   ]
  },
  {
   "cell_type": "code",
   "execution_count": 34,
   "metadata": {
    "deletable": false,
    "id": "JZaEKu5v_Zcu"
   },
   "outputs": [
    {
     "data": {
      "text/plain": [
       "genre\n",
       "pop            256\n",
       "electronic     216\n",
       "rock           216\n",
       "dance          210\n",
       "hiphop          97\n",
       "alternative     63\n",
       "jazz            61\n",
       "classical       60\n",
       "rusrap          59\n",
       "world           54\n",
       "Name: genre, dtype: int64"
      ]
     },
     "execution_count": 34,
     "metadata": {},
     "output_type": "execute_result"
    }
   ],
   "source": [
    "genre_weekday(spb_general, 'Friday', '17:00', '23:00')# вызов функции для вечера пятницы в Петербурге"
   ]
  },
  {
   "cell_type": "markdown",
   "metadata": {
    "deletable": false,
    "editable": false,
    "id": "wrCe4MNX_Zcu"
   },
   "source": [
    "**Выводы**\n",
    "\n",
    "Если сравнить топ-10 жанров в понедельник утром, можно сделать такие выводы:\n",
    "\n",
    "1. В Москве и Петербурге слушают похожую музыку. Единственное различие — в московский рейтинг вошёл жанр “world”, а в петербургский — джаз и классика.\n",
    "\n",
    "2. В Москве пропущенных значений оказалось так много, что значение `'unknown'` заняло десятое место среди самых популярных жанров. Значит, пропущенные значения занимают существенную долю в данных и угрожают достоверности исследования.\n",
    "\n",
    "Вечер пятницы не меняет эту картину. Некоторые жанры поднимаются немного выше, другие спускаются, но в целом топ-10 остаётся тем же самым.\n",
    "\n",
    "Таким образом, вторая гипотеза подтвердилась лишь частично:\n",
    "* Пользователи слушают похожую музыку в начале недели и в конце.\n",
    "* Разница между Москвой и Петербургом не слишком выражена. В Москве чаще слушают русскую популярную музыку, в Петербурге — джаз.\n",
    "\n",
    "Однако пропуски в данных ставят под сомнение этот результат. В Москве их так много, что рейтинг топ-10 мог бы выглядеть иначе, если бы не утерянные  данные о жанрах."
   ]
  },
  {
   "cell_type": "markdown",
   "metadata": {
    "deletable": false,
    "editable": false,
    "id": "JolODAqr_Zcu"
   },
   "source": [
    "### Жанровые предпочтения в Москве и Петербурге\n",
    "\n",
    "Гипотеза: Петербург — столица рэпа, музыку этого жанра там слушают чаще, чем в Москве.  А Москва — город контрастов, в котором, тем не менее, преобладает поп-музыка."
   ]
  },
  {
   "cell_type": "markdown",
   "metadata": {
    "deletable": false,
    "editable": false,
    "id": "DlegSvaT_Zcu",
    "tags": [
     "start_task"
    ]
   },
   "source": [
    "**Задание 26**\n",
    "\n",
    "Сгруппируйте таблицу `moscow_general` по жанру и посчитайте прослушивания треков каждого жанра методом `count()`. Затем отсортируйте результат в порядке убывания и сохраните его в таблице `moscow_genres`."
   ]
  },
  {
   "cell_type": "code",
   "execution_count": 50,
   "metadata": {
    "deletable": false,
    "id": "r19lIPke_Zcu"
   },
   "outputs": [],
   "source": [
    "moscow_general_1 = moscow_general.groupby('genre')['genre'].count()\n",
    "moscow_genres = moscow_general_1.sort_values(ascending=False)\n",
    "# одной строкой: группировка таблицы moscow_general по столбцу 'genre',\n",
    "# подсчёт числа значений 'genre' в этой группировке методом count(),\n",
    "# сортировка получившегося Series в порядке убывания и сохранение в moscow_genres"
   ]
  },
  {
   "cell_type": "markdown",
   "metadata": {
    "deletable": false,
    "editable": false,
    "id": "6kMuomxTiIr8",
    "tags": [
     "start_task"
    ]
   },
   "source": [
    "**Задание 27**\n",
    "\n",
    "Выведите на экран первые десять строк `moscow_genres`:"
   ]
  },
  {
   "cell_type": "code",
   "execution_count": 51,
   "metadata": {
    "deletable": false,
    "id": "WhCSooF8_Zcv"
   },
   "outputs": [
    {
     "name": "stdout",
     "output_type": "stream",
     "text": [
      "genre\n",
      "pop            5892\n",
      "dance          4435\n",
      "rock           3965\n",
      "electronic     3786\n",
      "hiphop         2096\n",
      "classical      1616\n",
      "world          1432\n",
      "alternative    1379\n",
      "ruspop         1372\n",
      "rusrap         1161\n",
      "Name: genre, dtype: int64\n"
     ]
    }
   ],
   "source": [
    "print(moscow_genres.head(10))# просмотр первых 10 строк moscow_genres"
   ]
  },
  {
   "cell_type": "markdown",
   "metadata": {
    "deletable": false,
    "editable": false,
    "id": "cnPG2vnN_Zcv",
    "tags": [
     "start_task"
    ]
   },
   "source": [
    "**Задание 28**\n",
    "\n",
    "\n",
    "Теперь повторите то же и для Петербурга.\n",
    "\n",
    "Сгруппируйте таблицу `spb_general` по жанру. Посчитайте прослушивания треков каждого жанра. Результат отсортируйте в порядке убывания и сохраните в таблице `spb_genres`:\n"
   ]
  },
  {
   "cell_type": "code",
   "execution_count": 54,
   "metadata": {
    "deletable": false,
    "id": "gluLIpE7_Zcv"
   },
   "outputs": [],
   "source": [
    "spb_general_1 = spb_general.groupby('genre')['genre'].count()\n",
    "spb_genres = spb_general_1.sort_values(ascending=False)# одной строкой: группировка таблицы spb_general по столбцу 'genre',\n",
    "# подсчёт числа значений 'genre' в этой группировке методом count(),\n",
    "# сортировка получившегося Series в порядке убывания и сохранение в spb_genres"
   ]
  },
  {
   "cell_type": "markdown",
   "metadata": {
    "deletable": false,
    "editable": false,
    "id": "5Doha_ODgyQ8",
    "tags": [
     "start_task"
    ]
   },
   "source": [
    "**Задание 29**\n",
    "\n",
    "Выведите на экран первые десять строк `spb_genres`:"
   ]
  },
  {
   "cell_type": "code",
   "execution_count": 55,
   "metadata": {
    "deletable": false,
    "id": "uaGJHjVU_Zcv"
   },
   "outputs": [
    {
     "name": "stdout",
     "output_type": "stream",
     "text": [
      "genre\n",
      "pop            2431\n",
      "dance          1932\n",
      "rock           1879\n",
      "electronic     1736\n",
      "hiphop          960\n",
      "alternative     649\n",
      "classical       646\n",
      "rusrap          564\n",
      "ruspop          538\n",
      "world           515\n",
      "Name: genre, dtype: int64\n"
     ]
    }
   ],
   "source": [
    "print(spb_genres.head(10))# просмотр первых 10 строк spb_genres"
   ]
  },
  {
   "cell_type": "markdown",
   "metadata": {
    "deletable": false,
    "editable": false,
    "id": "RY51YJYu_Zcv"
   },
   "source": [
    "**Выводы**"
   ]
  },
  {
   "cell_type": "markdown",
   "metadata": {
    "deletable": false,
    "editable": false,
    "id": "nVhnJEm__Zcv"
   },
   "source": [
    "Гипотеза частично подтвердилась:\n",
    "* Поп-музыка — самый популярный жанр в Москве, как и предполагала гипотеза. Более того, в топ-10 жанров встречается близкий жанр — русская популярная музыка.\n",
    "* Вопреки ожиданиям, рэп одинаково популярен в Москве и Петербурге.\n"
   ]
  },
  {
   "cell_type": "markdown",
   "metadata": {
    "deletable": false,
    "editable": false,
    "id": "ykKQ0N65_Zcv"
   },
   "source": [
    "## Итоги исследования"
   ]
  },
  {
   "cell_type": "markdown",
   "metadata": {
    "deletable": false,
    "editable": false,
    "id": "tjUwbHb3_Zcv"
   },
   "source": [
    "Вы проверили три гипотезы и установили:\n",
    "\n",
    "1. День недели по-разному влияет на активность пользователей в Москве и Петербурге.\n",
    "\n",
    "Первая гипотеза полностью подтвердилась.\n",
    "\n",
    "2. Музыкальные предпочтения не сильно меняются в течение недели — будь то Москва или Петербург. Небольшие различия заметны в начале недели, по понедельникам:\n",
    "* в Москве слушают музыку жанра “world”,\n",
    "* в Петербурге — джаз и классику.\n",
    "\n",
    "Таким образом, вторая гипотеза подтвердилась лишь отчасти. Этот результат мог оказаться иным, если бы не пропуски в данных.\n",
    "\n",
    "3. Во вкусах пользователей Москвы и Петербурга больше общего, чем различий. Вопреки ожиданиям, предпочтения жанров в Петербурге напоминают московские.\n",
    "\n",
    "Третья гипотеза не подтвердилась. Если различия в предпочтениях и существуют, на основной массе пользователей они незаметны.\n",
    "\n"
   ]
  }
 ],
 "metadata": {
  "ExecuteTimeLog": [
   {
    "duration": 415,
    "start_time": "2023-08-31T18:27:30.732Z"
   },
   {
    "duration": 118,
    "start_time": "2023-08-31T18:29:26.534Z"
   },
   {
    "duration": 2,
    "start_time": "2023-08-31T18:30:32.960Z"
   },
   {
    "duration": 195,
    "start_time": "2023-08-31T18:32:52.811Z"
   },
   {
    "duration": 25,
    "start_time": "2023-08-31T18:34:10.761Z"
   },
   {
    "duration": 34,
    "start_time": "2023-08-31T18:35:00.419Z"
   },
   {
    "duration": 3,
    "start_time": "2023-08-31T18:42:06.158Z"
   },
   {
    "duration": 6,
    "start_time": "2023-08-31T18:44:22.513Z"
   },
   {
    "duration": 88,
    "start_time": "2023-08-31T18:47:41.960Z"
   },
   {
    "duration": 83,
    "start_time": "2023-08-31T18:49:12.980Z"
   },
   {
    "duration": 14,
    "start_time": "2023-08-31T18:49:39.472Z"
   },
   {
    "duration": 6,
    "start_time": "2023-08-31T18:50:25.427Z"
   },
   {
    "duration": 28,
    "start_time": "2023-08-31T18:52:00.245Z"
   },
   {
    "duration": 21,
    "start_time": "2023-08-31T19:00:55.494Z"
   },
   {
    "duration": 19,
    "start_time": "2023-08-31T19:01:59.539Z"
   },
   {
    "duration": 50,
    "start_time": "2023-08-31T19:02:37.803Z"
   },
   {
    "duration": 21,
    "start_time": "2023-08-31T19:03:16.623Z"
   },
   {
    "duration": 56,
    "start_time": "2023-08-31T19:04:29.548Z"
   },
   {
    "duration": 28,
    "start_time": "2023-08-31T19:04:56.961Z"
   },
   {
    "duration": 73,
    "start_time": "2023-08-31T19:08:39.363Z"
   },
   {
    "duration": 10,
    "start_time": "2023-08-31T19:10:38.967Z"
   },
   {
    "duration": 10,
    "start_time": "2023-08-31T19:11:07.055Z"
   },
   {
    "duration": 75,
    "start_time": "2023-08-31T19:11:56.136Z"
   },
   {
    "duration": 73,
    "start_time": "2023-08-31T19:12:31.109Z"
   },
   {
    "duration": 45,
    "start_time": "2023-09-01T07:17:49.753Z"
   },
   {
    "duration": 5,
    "start_time": "2023-09-01T07:18:10.874Z"
   },
   {
    "duration": 404,
    "start_time": "2023-09-01T07:19:11.676Z"
   },
   {
    "duration": 225,
    "start_time": "2023-09-01T07:19:15.637Z"
   },
   {
    "duration": 17,
    "start_time": "2023-09-01T07:19:18.227Z"
   },
   {
    "duration": 30,
    "start_time": "2023-09-01T07:19:21.798Z"
   },
   {
    "duration": 2,
    "start_time": "2023-09-01T07:19:24.232Z"
   },
   {
    "duration": 4,
    "start_time": "2023-09-01T07:19:26.402Z"
   },
   {
    "duration": 10,
    "start_time": "2023-09-01T07:19:33.252Z"
   },
   {
    "duration": 4,
    "start_time": "2023-09-01T07:19:35.620Z"
   },
   {
    "duration": 23,
    "start_time": "2023-09-01T07:19:38.625Z"
   },
   {
    "duration": 19,
    "start_time": "2023-09-01T07:19:43.392Z"
   },
   {
    "duration": 24,
    "start_time": "2023-09-01T07:19:45.772Z"
   },
   {
    "duration": 65,
    "start_time": "2023-09-01T07:19:48.044Z"
   },
   {
    "duration": 66,
    "start_time": "2023-09-01T07:19:49.599Z"
   },
   {
    "duration": 57,
    "start_time": "2023-09-01T07:19:51.027Z"
   },
   {
    "duration": 25,
    "start_time": "2023-09-01T07:19:53.363Z"
   },
   {
    "duration": 8,
    "start_time": "2023-09-01T07:20:20.271Z"
   },
   {
    "duration": 10,
    "start_time": "2023-09-01T07:24:42.757Z"
   },
   {
    "duration": 48,
    "start_time": "2023-09-01T07:29:32.637Z"
   },
   {
    "duration": 49,
    "start_time": "2023-09-01T07:29:57.511Z"
   },
   {
    "duration": 49,
    "start_time": "2023-09-01T07:30:22.384Z"
   },
   {
    "duration": 48,
    "start_time": "2023-09-01T07:30:47.453Z"
   },
   {
    "duration": 48,
    "start_time": "2023-09-01T07:31:10.763Z"
   },
   {
    "duration": 46,
    "start_time": "2023-09-01T07:31:23.360Z"
   },
   {
    "duration": 45,
    "start_time": "2023-09-01T07:31:55.550Z"
   },
   {
    "duration": 60,
    "start_time": "2023-09-01T07:32:41.800Z"
   },
   {
    "duration": 68,
    "start_time": "2023-09-01T07:33:29.710Z"
   },
   {
    "duration": 52,
    "start_time": "2023-09-01T07:33:35.562Z"
   },
   {
    "duration": 51,
    "start_time": "2023-09-01T07:34:03.848Z"
   },
   {
    "duration": 49,
    "start_time": "2023-09-01T07:34:06.382Z"
   },
   {
    "duration": 53,
    "start_time": "2023-09-01T07:34:25.499Z"
   },
   {
    "duration": 24,
    "start_time": "2023-09-01T07:35:04.082Z"
   },
   {
    "duration": 33,
    "start_time": "2023-09-01T07:35:07.110Z"
   },
   {
    "duration": 74,
    "start_time": "2023-09-01T07:35:09.461Z"
   },
   {
    "duration": 83,
    "start_time": "2023-09-01T07:35:18.802Z"
   },
   {
    "duration": 79,
    "start_time": "2023-09-01T07:35:21.303Z"
   },
   {
    "duration": 50,
    "start_time": "2023-09-01T07:35:23.634Z"
   },
   {
    "duration": 379,
    "start_time": "2023-09-01T07:36:16.560Z"
   },
   {
    "duration": 161,
    "start_time": "2023-09-01T07:36:16.941Z"
   },
   {
    "duration": 21,
    "start_time": "2023-09-01T07:36:17.103Z"
   },
   {
    "duration": 28,
    "start_time": "2023-09-01T07:36:17.126Z"
   },
   {
    "duration": 2,
    "start_time": "2023-09-01T07:36:17.155Z"
   },
   {
    "duration": 8,
    "start_time": "2023-09-01T07:36:17.159Z"
   },
   {
    "duration": 12,
    "start_time": "2023-09-01T07:36:17.168Z"
   },
   {
    "duration": 10,
    "start_time": "2023-09-01T07:36:17.182Z"
   },
   {
    "duration": 43,
    "start_time": "2023-09-01T07:36:17.194Z"
   },
   {
    "duration": 19,
    "start_time": "2023-09-01T07:36:17.238Z"
   },
   {
    "duration": 22,
    "start_time": "2023-09-01T07:36:17.258Z"
   },
   {
    "duration": 87,
    "start_time": "2023-09-01T07:36:17.282Z"
   },
   {
    "duration": 74,
    "start_time": "2023-09-01T07:36:17.371Z"
   },
   {
    "duration": 58,
    "start_time": "2023-09-01T07:36:17.449Z"
   },
   {
    "duration": 2,
    "start_time": "2023-09-01T07:36:17.509Z"
   },
   {
    "duration": 9,
    "start_time": "2023-09-01T07:36:17.524Z"
   },
   {
    "duration": 2,
    "start_time": "2023-09-01T07:36:17.534Z"
   },
   {
    "duration": 8,
    "start_time": "2023-09-01T07:36:17.538Z"
   },
   {
    "duration": 3,
    "start_time": "2023-09-01T07:36:17.548Z"
   },
   {
    "duration": 5,
    "start_time": "2023-09-01T07:36:17.552Z"
   },
   {
    "duration": 6,
    "start_time": "2023-09-01T07:36:17.558Z"
   },
   {
    "duration": 3,
    "start_time": "2023-09-01T07:36:17.566Z"
   },
   {
    "duration": 5,
    "start_time": "2023-09-01T07:36:17.570Z"
   },
   {
    "duration": 5,
    "start_time": "2023-09-01T07:36:17.576Z"
   },
   {
    "duration": 6,
    "start_time": "2023-09-01T07:36:17.582Z"
   },
   {
    "duration": 5,
    "start_time": "2023-09-01T07:36:17.590Z"
   },
   {
    "duration": 8,
    "start_time": "2023-09-01T07:36:17.596Z"
   },
   {
    "duration": 19,
    "start_time": "2023-09-01T07:36:17.605Z"
   },
   {
    "duration": 5,
    "start_time": "2023-09-01T07:36:17.626Z"
   },
   {
    "duration": 85,
    "start_time": "2023-09-01T07:36:17.632Z"
   },
   {
    "duration": 0,
    "start_time": "2023-09-01T07:36:17.719Z"
   },
   {
    "duration": 0,
    "start_time": "2023-09-01T07:36:17.720Z"
   },
   {
    "duration": 0,
    "start_time": "2023-09-01T07:36:17.722Z"
   },
   {
    "duration": 0,
    "start_time": "2023-09-01T07:36:17.723Z"
   },
   {
    "duration": 0,
    "start_time": "2023-09-01T07:36:17.724Z"
   },
   {
    "duration": 0,
    "start_time": "2023-09-01T07:36:17.725Z"
   },
   {
    "duration": 0,
    "start_time": "2023-09-01T07:36:17.726Z"
   },
   {
    "duration": 0,
    "start_time": "2023-09-01T07:36:17.727Z"
   },
   {
    "duration": 3,
    "start_time": "2023-09-01T07:37:47.319Z"
   },
   {
    "duration": 5,
    "start_time": "2023-09-01T07:38:04.946Z"
   },
   {
    "duration": 60,
    "start_time": "2023-09-01T07:40:29.660Z"
   },
   {
    "duration": 47,
    "start_time": "2023-09-01T07:40:46.383Z"
   },
   {
    "duration": 38,
    "start_time": "2023-09-01T07:41:09.556Z"
   },
   {
    "duration": 9,
    "start_time": "2023-09-01T07:41:37.168Z"
   },
   {
    "duration": 38,
    "start_time": "2023-09-01T07:42:31.257Z"
   },
   {
    "duration": 368,
    "start_time": "2023-09-01T07:44:36.959Z"
   },
   {
    "duration": 166,
    "start_time": "2023-09-01T07:44:37.329Z"
   },
   {
    "duration": 16,
    "start_time": "2023-09-01T07:44:37.497Z"
   },
   {
    "duration": 35,
    "start_time": "2023-09-01T07:44:37.515Z"
   },
   {
    "duration": 2,
    "start_time": "2023-09-01T07:44:37.552Z"
   },
   {
    "duration": 8,
    "start_time": "2023-09-01T07:44:37.556Z"
   },
   {
    "duration": 13,
    "start_time": "2023-09-01T07:44:37.565Z"
   },
   {
    "duration": 12,
    "start_time": "2023-09-01T07:44:37.580Z"
   },
   {
    "duration": 50,
    "start_time": "2023-09-01T07:44:37.594Z"
   },
   {
    "duration": 22,
    "start_time": "2023-09-01T07:44:37.645Z"
   },
   {
    "duration": 24,
    "start_time": "2023-09-01T07:44:37.669Z"
   },
   {
    "duration": 84,
    "start_time": "2023-09-01T07:44:37.695Z"
   },
   {
    "duration": 76,
    "start_time": "2023-09-01T07:44:37.780Z"
   },
   {
    "duration": 70,
    "start_time": "2023-09-01T07:44:37.859Z"
   },
   {
    "duration": 38,
    "start_time": "2023-09-01T07:44:37.931Z"
   },
   {
    "duration": 9,
    "start_time": "2023-09-01T07:44:37.971Z"
   },
   {
    "duration": 55,
    "start_time": "2023-09-01T07:44:37.981Z"
   },
   {
    "duration": 1,
    "start_time": "2023-09-01T07:44:38.038Z"
   },
   {
    "duration": 5,
    "start_time": "2023-09-01T07:44:38.041Z"
   },
   {
    "duration": 5,
    "start_time": "2023-09-01T07:44:38.047Z"
   },
   {
    "duration": 9,
    "start_time": "2023-09-01T07:44:38.053Z"
   },
   {
    "duration": 4,
    "start_time": "2023-09-01T07:44:38.064Z"
   },
   {
    "duration": 8,
    "start_time": "2023-09-01T07:44:38.069Z"
   },
   {
    "duration": 4,
    "start_time": "2023-09-01T07:44:38.079Z"
   },
   {
    "duration": 122,
    "start_time": "2023-09-01T07:44:38.084Z"
   },
   {
    "duration": 161,
    "start_time": "2023-09-01T07:44:38.207Z"
   },
   {
    "duration": 142,
    "start_time": "2023-09-01T07:44:38.370Z"
   },
   {
    "duration": 36,
    "start_time": "2023-09-01T07:44:38.514Z"
   },
   {
    "duration": 44,
    "start_time": "2023-09-01T07:44:38.552Z"
   },
   {
    "duration": 183,
    "start_time": "2023-09-01T07:44:38.597Z"
   },
   {
    "duration": 0,
    "start_time": "2023-09-01T07:44:38.781Z"
   },
   {
    "duration": 0,
    "start_time": "2023-09-01T07:44:38.783Z"
   },
   {
    "duration": 0,
    "start_time": "2023-09-01T07:44:38.784Z"
   },
   {
    "duration": 0,
    "start_time": "2023-09-01T07:44:38.785Z"
   },
   {
    "duration": 0,
    "start_time": "2023-09-01T07:44:38.786Z"
   },
   {
    "duration": 0,
    "start_time": "2023-09-01T07:44:38.787Z"
   },
   {
    "duration": 0,
    "start_time": "2023-09-01T07:44:38.788Z"
   },
   {
    "duration": 0,
    "start_time": "2023-09-01T07:44:38.789Z"
   },
   {
    "duration": 31,
    "start_time": "2023-09-01T07:51:52.025Z"
   },
   {
    "duration": 32,
    "start_time": "2023-09-01T07:52:23.175Z"
   },
   {
    "duration": 13,
    "start_time": "2023-09-01T07:53:54.644Z"
   },
   {
    "duration": 13,
    "start_time": "2023-09-01T07:56:46.526Z"
   },
   {
    "duration": 95,
    "start_time": "2023-09-01T08:07:16.525Z"
   },
   {
    "duration": 4,
    "start_time": "2023-09-01T08:08:29.716Z"
   },
   {
    "duration": 4,
    "start_time": "2023-09-01T08:11:39.786Z"
   },
   {
    "duration": 3,
    "start_time": "2023-09-01T08:11:59.353Z"
   },
   {
    "duration": 67,
    "start_time": "2023-09-01T08:14:09.701Z"
   },
   {
    "duration": 36,
    "start_time": "2023-09-01T08:15:10.137Z"
   },
   {
    "duration": 36,
    "start_time": "2023-09-01T08:15:18.562Z"
   },
   {
    "duration": 4,
    "start_time": "2023-09-01T08:15:25.393Z"
   },
   {
    "duration": 5,
    "start_time": "2023-09-01T08:19:38.730Z"
   },
   {
    "duration": 4,
    "start_time": "2023-09-01T08:23:31.486Z"
   },
   {
    "duration": 8,
    "start_time": "2023-09-01T08:23:52.802Z"
   },
   {
    "duration": 10,
    "start_time": "2023-09-01T08:24:56.535Z"
   },
   {
    "duration": 15,
    "start_time": "2023-09-01T08:25:08.182Z"
   },
   {
    "duration": 4,
    "start_time": "2023-09-01T08:27:01.404Z"
   },
   {
    "duration": 88,
    "start_time": "2023-09-01T08:33:35.234Z"
   },
   {
    "duration": 16,
    "start_time": "2023-09-01T08:34:04.014Z"
   },
   {
    "duration": 359,
    "start_time": "2023-09-01T08:34:10.109Z"
   },
   {
    "duration": 18,
    "start_time": "2023-09-01T08:34:17.252Z"
   },
   {
    "duration": 16,
    "start_time": "2023-09-01T08:34:22.234Z"
   },
   {
    "duration": 15,
    "start_time": "2023-09-01T08:34:27.891Z"
   },
   {
    "duration": 17,
    "start_time": "2023-09-01T08:34:37.437Z"
   },
   {
    "duration": 15,
    "start_time": "2023-09-01T08:34:43.216Z"
   },
   {
    "duration": 19,
    "start_time": "2023-09-01T08:36:55.134Z"
   },
   {
    "duration": 19,
    "start_time": "2023-09-01T08:37:02.810Z"
   },
   {
    "duration": 21,
    "start_time": "2023-09-01T08:37:13.745Z"
   },
   {
    "duration": 9,
    "start_time": "2023-09-01T08:44:31.214Z"
   },
   {
    "duration": 139,
    "start_time": "2023-09-01T08:49:52.000Z"
   },
   {
    "duration": 5,
    "start_time": "2023-09-01T08:50:19.256Z"
   },
   {
    "duration": 9,
    "start_time": "2023-09-01T08:50:32.532Z"
   },
   {
    "duration": 11,
    "start_time": "2023-09-01T08:55:24.839Z"
   },
   {
    "duration": 9,
    "start_time": "2023-09-01T08:55:29.264Z"
   },
   {
    "duration": 26,
    "start_time": "2023-09-01T08:56:04.049Z"
   },
   {
    "duration": 12,
    "start_time": "2023-09-01T08:56:18.245Z"
   },
   {
    "duration": 5,
    "start_time": "2023-09-01T09:20:06.847Z"
   },
   {
    "duration": 19,
    "start_time": "2023-09-01T09:24:43.996Z"
   },
   {
    "duration": 11,
    "start_time": "2023-09-01T09:28:13.967Z"
   },
   {
    "duration": 20,
    "start_time": "2023-09-01T09:28:16.233Z"
   },
   {
    "duration": 11,
    "start_time": "2023-09-01T09:28:17.629Z"
   },
   {
    "duration": 17,
    "start_time": "2023-09-01T09:36:08.417Z"
   },
   {
    "duration": 12,
    "start_time": "2023-09-01T09:36:10.644Z"
   },
   {
    "duration": 7,
    "start_time": "2023-09-01T10:35:50.726Z"
   },
   {
    "duration": 7,
    "start_time": "2023-09-01T10:37:11.662Z"
   },
   {
    "duration": 8,
    "start_time": "2023-09-01T10:37:44.321Z"
   },
   {
    "duration": 8,
    "start_time": "2023-09-01T10:38:17.414Z"
   },
   {
    "duration": 7,
    "start_time": "2023-09-01T10:39:22.842Z"
   },
   {
    "duration": 8,
    "start_time": "2023-09-01T10:40:51.146Z"
   },
   {
    "duration": 8,
    "start_time": "2023-09-01T10:41:26.751Z"
   },
   {
    "duration": 364,
    "start_time": "2023-09-01T10:42:02.277Z"
   },
   {
    "duration": 176,
    "start_time": "2023-09-01T10:42:02.643Z"
   },
   {
    "duration": 16,
    "start_time": "2023-09-01T10:42:02.821Z"
   },
   {
    "duration": 40,
    "start_time": "2023-09-01T10:42:02.839Z"
   },
   {
    "duration": 18,
    "start_time": "2023-09-01T10:42:02.882Z"
   },
   {
    "duration": 35,
    "start_time": "2023-09-01T10:42:02.902Z"
   },
   {
    "duration": 25,
    "start_time": "2023-09-01T10:42:02.939Z"
   },
   {
    "duration": 17,
    "start_time": "2023-09-01T10:42:02.966Z"
   },
   {
    "duration": 42,
    "start_time": "2023-09-01T10:42:02.985Z"
   },
   {
    "duration": 48,
    "start_time": "2023-09-01T10:42:03.028Z"
   },
   {
    "duration": 56,
    "start_time": "2023-09-01T10:42:03.078Z"
   },
   {
    "duration": 79,
    "start_time": "2023-09-01T10:42:03.135Z"
   },
   {
    "duration": 70,
    "start_time": "2023-09-01T10:42:03.215Z"
   },
   {
    "duration": 71,
    "start_time": "2023-09-01T10:42:03.288Z"
   },
   {
    "duration": 39,
    "start_time": "2023-09-01T10:42:03.361Z"
   },
   {
    "duration": 25,
    "start_time": "2023-09-01T10:42:03.402Z"
   },
   {
    "duration": 45,
    "start_time": "2023-09-01T10:42:03.429Z"
   },
   {
    "duration": 39,
    "start_time": "2023-09-01T10:42:03.476Z"
   },
   {
    "duration": 33,
    "start_time": "2023-09-01T10:42:03.524Z"
   },
   {
    "duration": 3,
    "start_time": "2023-09-01T10:42:03.559Z"
   },
   {
    "duration": 44,
    "start_time": "2023-09-01T10:42:03.564Z"
   },
   {
    "duration": 17,
    "start_time": "2023-09-01T10:42:03.610Z"
   },
   {
    "duration": 80,
    "start_time": "2023-09-01T10:42:03.628Z"
   },
   {
    "duration": 58,
    "start_time": "2023-09-01T10:42:03.710Z"
   },
   {
    "duration": 33,
    "start_time": "2023-09-01T10:42:03.770Z"
   },
   {
    "duration": 37,
    "start_time": "2023-09-01T10:42:03.804Z"
   },
   {
    "duration": 8,
    "start_time": "2023-09-01T10:42:03.842Z"
   },
   {
    "duration": 31,
    "start_time": "2023-09-01T10:42:03.852Z"
   },
   {
    "duration": 25,
    "start_time": "2023-09-01T10:42:03.886Z"
   },
   {
    "duration": 4,
    "start_time": "2023-09-01T10:42:03.914Z"
   },
   {
    "duration": 53,
    "start_time": "2023-09-01T10:42:03.920Z"
   },
   {
    "duration": 24,
    "start_time": "2023-09-01T10:42:03.975Z"
   },
   {
    "duration": 46,
    "start_time": "2023-09-01T10:42:04.001Z"
   },
   {
    "duration": 35,
    "start_time": "2023-09-01T10:42:04.049Z"
   },
   {
    "duration": 103,
    "start_time": "2023-09-01T10:42:04.086Z"
   },
   {
    "duration": 0,
    "start_time": "2023-09-01T10:42:04.191Z"
   },
   {
    "duration": 0,
    "start_time": "2023-09-01T10:42:04.193Z"
   },
   {
    "duration": 0,
    "start_time": "2023-09-01T10:42:04.194Z"
   },
   {
    "duration": 13,
    "start_time": "2023-09-01T10:42:28.393Z"
   },
   {
    "duration": 37,
    "start_time": "2023-09-01T10:43:27.848Z"
   },
   {
    "duration": 127,
    "start_time": "2023-09-01T10:43:51.796Z"
   },
   {
    "duration": 10,
    "start_time": "2023-09-01T10:44:01.196Z"
   },
   {
    "duration": 13,
    "start_time": "2023-09-01T10:45:22.093Z"
   },
   {
    "duration": 11,
    "start_time": "2023-09-01T10:46:25.759Z"
   },
   {
    "duration": 10,
    "start_time": "2023-09-01T10:47:58.284Z"
   },
   {
    "duration": 9,
    "start_time": "2023-09-01T10:48:13.023Z"
   },
   {
    "duration": 9,
    "start_time": "2023-09-01T10:49:35.369Z"
   },
   {
    "duration": 12,
    "start_time": "2023-09-01T10:50:41.340Z"
   },
   {
    "duration": 375,
    "start_time": "2023-09-01T10:50:51.368Z"
   },
   {
    "duration": 168,
    "start_time": "2023-09-01T10:50:51.745Z"
   },
   {
    "duration": 15,
    "start_time": "2023-09-01T10:50:51.915Z"
   },
   {
    "duration": 72,
    "start_time": "2023-09-01T10:50:51.932Z"
   },
   {
    "duration": 78,
    "start_time": "2023-09-01T10:50:52.006Z"
   },
   {
    "duration": 141,
    "start_time": "2023-09-01T10:50:52.086Z"
   },
   {
    "duration": 92,
    "start_time": "2023-09-01T10:50:52.229Z"
   },
   {
    "duration": 57,
    "start_time": "2023-09-01T10:50:52.323Z"
   },
   {
    "duration": 63,
    "start_time": "2023-09-01T10:50:52.381Z"
   },
   {
    "duration": 96,
    "start_time": "2023-09-01T10:50:52.446Z"
   },
   {
    "duration": 127,
    "start_time": "2023-09-01T10:50:52.543Z"
   },
   {
    "duration": 108,
    "start_time": "2023-09-01T10:50:52.671Z"
   },
   {
    "duration": 109,
    "start_time": "2023-09-01T10:50:52.780Z"
   },
   {
    "duration": 79,
    "start_time": "2023-09-01T10:50:52.894Z"
   },
   {
    "duration": 39,
    "start_time": "2023-09-01T10:50:52.975Z"
   },
   {
    "duration": 40,
    "start_time": "2023-09-01T10:50:53.016Z"
   },
   {
    "duration": 102,
    "start_time": "2023-09-01T10:50:53.058Z"
   },
   {
    "duration": 54,
    "start_time": "2023-09-01T10:50:53.161Z"
   },
   {
    "duration": 54,
    "start_time": "2023-09-01T10:50:53.216Z"
   },
   {
    "duration": 50,
    "start_time": "2023-09-01T10:50:53.271Z"
   },
   {
    "duration": 65,
    "start_time": "2023-09-01T10:50:53.322Z"
   },
   {
    "duration": 60,
    "start_time": "2023-09-01T10:50:53.389Z"
   },
   {
    "duration": 91,
    "start_time": "2023-09-01T10:50:53.450Z"
   },
   {
    "duration": 57,
    "start_time": "2023-09-01T10:50:53.543Z"
   },
   {
    "duration": 53,
    "start_time": "2023-09-01T10:50:53.602Z"
   },
   {
    "duration": 34,
    "start_time": "2023-09-01T10:50:53.656Z"
   },
   {
    "duration": 50,
    "start_time": "2023-09-01T10:50:53.692Z"
   },
   {
    "duration": 48,
    "start_time": "2023-09-01T10:50:53.744Z"
   },
   {
    "duration": 49,
    "start_time": "2023-09-01T10:50:53.794Z"
   },
   {
    "duration": 55,
    "start_time": "2023-09-01T10:50:53.845Z"
   },
   {
    "duration": 72,
    "start_time": "2023-09-01T10:50:53.902Z"
   },
   {
    "duration": 44,
    "start_time": "2023-09-01T10:50:53.976Z"
   },
   {
    "duration": 51,
    "start_time": "2023-09-01T10:50:54.022Z"
   },
   {
    "duration": 56,
    "start_time": "2023-09-01T10:50:54.074Z"
   },
   {
    "duration": 82,
    "start_time": "2023-09-01T10:50:54.131Z"
   },
   {
    "duration": 2,
    "start_time": "2023-09-01T10:50:54.215Z"
   },
   {
    "duration": 41,
    "start_time": "2023-09-01T10:50:54.218Z"
   },
   {
    "duration": 25,
    "start_time": "2023-09-01T10:50:54.261Z"
   },
   {
    "duration": 71,
    "start_time": "2023-09-01T10:51:00.705Z"
   },
   {
    "duration": 9,
    "start_time": "2023-09-01T10:51:30.702Z"
   },
   {
    "duration": 391,
    "start_time": "2023-09-01T10:51:44.787Z"
   },
   {
    "duration": 170,
    "start_time": "2023-09-01T10:51:45.179Z"
   },
   {
    "duration": 17,
    "start_time": "2023-09-01T10:51:45.351Z"
   },
   {
    "duration": 39,
    "start_time": "2023-09-01T10:51:45.370Z"
   },
   {
    "duration": 19,
    "start_time": "2023-09-01T10:51:45.410Z"
   },
   {
    "duration": 15,
    "start_time": "2023-09-01T10:51:45.431Z"
   },
   {
    "duration": 12,
    "start_time": "2023-09-01T10:51:45.447Z"
   },
   {
    "duration": 7,
    "start_time": "2023-09-01T10:51:45.460Z"
   },
   {
    "duration": 32,
    "start_time": "2023-09-01T10:51:45.468Z"
   },
   {
    "duration": 27,
    "start_time": "2023-09-01T10:51:45.505Z"
   },
   {
    "duration": 27,
    "start_time": "2023-09-01T10:51:45.533Z"
   },
   {
    "duration": 82,
    "start_time": "2023-09-01T10:51:45.562Z"
   },
   {
    "duration": 67,
    "start_time": "2023-09-01T10:51:45.646Z"
   },
   {
    "duration": 68,
    "start_time": "2023-09-01T10:51:45.715Z"
   },
   {
    "duration": 51,
    "start_time": "2023-09-01T10:51:45.785Z"
   },
   {
    "duration": 9,
    "start_time": "2023-09-01T10:51:45.838Z"
   },
   {
    "duration": 48,
    "start_time": "2023-09-01T10:51:45.849Z"
   },
   {
    "duration": 44,
    "start_time": "2023-09-01T10:51:45.899Z"
   },
   {
    "duration": 33,
    "start_time": "2023-09-01T10:51:45.945Z"
   },
   {
    "duration": 4,
    "start_time": "2023-09-01T10:51:45.979Z"
   },
   {
    "duration": 19,
    "start_time": "2023-09-01T10:51:45.984Z"
   },
   {
    "duration": 29,
    "start_time": "2023-09-01T10:51:46.005Z"
   },
   {
    "duration": 16,
    "start_time": "2023-09-01T10:51:46.035Z"
   },
   {
    "duration": 12,
    "start_time": "2023-09-01T10:51:46.052Z"
   },
   {
    "duration": 25,
    "start_time": "2023-09-01T10:51:46.066Z"
   },
   {
    "duration": 31,
    "start_time": "2023-09-01T10:51:46.093Z"
   },
   {
    "duration": 8,
    "start_time": "2023-09-01T10:51:46.126Z"
   },
   {
    "duration": 10,
    "start_time": "2023-09-01T10:51:46.137Z"
   },
   {
    "duration": 9,
    "start_time": "2023-09-01T10:51:46.149Z"
   },
   {
    "duration": 7,
    "start_time": "2023-09-01T10:51:46.160Z"
   },
   {
    "duration": 21,
    "start_time": "2023-09-01T10:51:46.169Z"
   },
   {
    "duration": 38,
    "start_time": "2023-09-01T10:51:46.192Z"
   },
   {
    "duration": 18,
    "start_time": "2023-09-01T10:51:46.232Z"
   },
   {
    "duration": 12,
    "start_time": "2023-09-01T10:51:46.253Z"
   },
   {
    "duration": 5,
    "start_time": "2023-09-01T10:51:46.267Z"
   },
   {
    "duration": 6,
    "start_time": "2023-09-01T10:51:46.273Z"
   },
   {
    "duration": 6,
    "start_time": "2023-09-01T10:51:46.280Z"
   },
   {
    "duration": 7,
    "start_time": "2023-09-01T10:51:46.287Z"
   },
   {
    "duration": 43,
    "start_time": "2023-09-01T10:52:05.652Z"
   },
   {
    "duration": 60,
    "start_time": "2023-09-01T10:52:16.129Z"
   },
   {
    "duration": 13,
    "start_time": "2023-09-01T10:52:35.760Z"
   },
   {
    "duration": 10,
    "start_time": "2023-09-01T10:56:04.952Z"
   },
   {
    "duration": 11,
    "start_time": "2023-09-01T10:57:31.257Z"
   },
   {
    "duration": 12,
    "start_time": "2023-09-01T10:58:37.896Z"
   },
   {
    "duration": 9,
    "start_time": "2023-09-01T10:59:48.798Z"
   },
   {
    "duration": 9,
    "start_time": "2023-09-01T11:00:17.415Z"
   },
   {
    "duration": 4,
    "start_time": "2023-09-01T11:01:14.265Z"
   },
   {
    "duration": 9,
    "start_time": "2023-09-01T11:02:12.215Z"
   },
   {
    "duration": 5,
    "start_time": "2023-09-01T11:02:14.827Z"
   },
   {
    "duration": 8,
    "start_time": "2023-09-01T11:03:54.209Z"
   },
   {
    "duration": 4,
    "start_time": "2023-09-01T11:04:01.059Z"
   },
   {
    "duration": 7,
    "start_time": "2023-09-01T11:06:17.870Z"
   },
   {
    "duration": 8,
    "start_time": "2023-09-01T11:06:50.311Z"
   },
   {
    "duration": 6,
    "start_time": "2023-09-01T11:06:57.428Z"
   },
   {
    "duration": 4,
    "start_time": "2023-09-01T11:07:49.063Z"
   }
  ],
  "colab": {
   "collapsed_sections": [
    "E0vqbgi9ay0H",
    "VUC88oWjTJw2"
   ],
   "provenance": []
  },
  "kernelspec": {
   "display_name": "Python 3 (ipykernel)",
   "language": "python",
   "name": "python3"
  },
  "language_info": {
   "codemirror_mode": {
    "name": "ipython",
    "version": 3
   },
   "file_extension": ".py",
   "mimetype": "text/x-python",
   "name": "python",
   "nbconvert_exporter": "python",
   "pygments_lexer": "ipython3",
   "version": "3.9.5"
  },
  "toc": {
   "base_numbering": 1,
   "nav_menu": {
    "height": "215px",
    "width": "403px"
   },
   "number_sections": true,
   "sideBar": true,
   "skip_h1_title": true,
   "title_cell": "Table of Contents",
   "title_sidebar": "Contents",
   "toc_cell": false,
   "toc_position": {
    "height": "calc(100% - 180px)",
    "left": "10px",
    "top": "150px",
    "width": "285.825px"
   },
   "toc_section_display": true,
   "toc_window_display": false
  }
 },
 "nbformat": 4,
 "nbformat_minor": 1
}
